{
 "cells": [
  {
   "cell_type": "markdown",
   "metadata": {},
   "source": [
    "# Analysing single-cell RNA-sequencing Data"
   ]
  },
  {
   "cell_type": "markdown",
   "metadata": {},
   "source": [
    "This tutorial is based on the vignette created by Johannes Griss (2021-10-26\n",
    ") https://www.bioconductor.org/packages/release/bioc/vignettes/ReactomeGSA/inst/doc/analysing-scRNAseq.html"
   ]
  },
  {
   "cell_type": "markdown",
   "metadata": {},
   "source": [
    "## Introduction\n",
    "The ReactomeGSA package is a client to the web-based Reactome Analysis System. Essentially, it performs a gene set analysis using the latest version of the Reactome pathway database as a backend.\n",
    "\n",
    "This vignette shows how the ReactomeGSA package can be used to perform a pathway analysis of cell clusters in single-cell RNA-sequencing data."
   ]
  },
  {
   "cell_type": "markdown",
   "metadata": {},
   "source": [
    "## Citation\n",
    "To cite this package, use\n",
    "\n",
    "Griss J. ReactomeGSA, https://github.com/reactome/ReactomeGSA (2019)"
   ]
  },
  {
   "cell_type": "markdown",
   "metadata": {},
   "source": [
    "## Installation\n",
    "The `ReactomeGSA` package can be directly installed from Bioconductor:"
   ]
  },
  {
   "cell_type": "code",
   "execution_count": 1,
   "metadata": {},
   "outputs": [
    {
     "name": "stderr",
     "output_type": "stream",
     "text": [
      "Bioconductor version '3.12' is out-of-date; the current release version '3.14'\n",
      "  is available with R version '4.1'; see https://bioconductor.org/install\n",
      "\n",
      "Loading required package: ReactomeGSA\n",
      "\n",
      "Loading required package: ReactomeGSA.data\n",
      "\n",
      "Loading required package: limma\n",
      "\n",
      "Loading required package: edgeR\n",
      "\n",
      "Loading required package: Seurat\n",
      "\n",
      "Attaching SeuratObject\n",
      "\n"
     ]
    }
   ],
   "source": [
    "if (!requireNamespace(\"BiocManager\", quietly = TRUE))\n",
    "    install.packages(\"BiocManager\")\n",
    "\n",
    "if (!require(ReactomeGSA))\n",
    "  BiocManager::install(\"ReactomeGSA\")\n",
    "#> Loading required package: ReactomeGSA\n",
    "\n",
    "# install the ReactomeGSA.data package for the example data\n",
    "if (!require(ReactomeGSA.data))\n",
    "  BiocManager::install(\"ReactomeGSA.data\")"
   ]
  },
  {
   "cell_type": "markdown",
   "metadata": {},
   "source": [
    "For more information, see https://bioconductor.org/install/."
   ]
  },
  {
   "cell_type": "markdown",
   "metadata": {},
   "source": [
    "## Example data\n",
    "As an example we load single-cell RNA-sequencing data of B cells extracted from the dataset published by Jerby-Arnon *et al.* (Cell, 2018).\n",
    "\n",
    "Note: This is not a complete Seurat object. To decrease the size, the object only contains gene expression values and cluster annotations."
   ]
  },
  {
   "cell_type": "code",
   "execution_count": 3,
   "metadata": {},
   "outputs": [
    {
     "data": {
      "text/plain": [
       "An object of class Seurat \n",
       "23686 features across 920 samples within 1 assay \n",
       "Active assay: RNA (23686 features, 0 variable features)"
      ]
     },
     "metadata": {},
     "output_type": "display_data"
    }
   ],
   "source": [
    "library(ReactomeGSA.data)\n",
    "data(jerby_b_cells)\n",
    "\n",
    "jerby_b_cells\n",
    "#> An object of class Seurat \n",
    "#> 23686 features across 920 samples within 1 assay \n",
    "#> Active assay: RNA (23686 features, 0 variable features)"
   ]
  },
  {
   "cell_type": "markdown",
   "metadata": {},
   "source": [
    "# Extracting counts table and metadata"
   ]
  },
  {
   "cell_type": "code",
   "execution_count": 4,
   "metadata": {},
   "outputs": [
    {
     "data": {
      "text/html": [
       "<table class=\"dataframe\">\n",
       "<caption>A data.frame: 6 × 3</caption>\n",
       "<thead>\n",
       "\t<tr><th></th><th scope=col>orig.ident</th><th scope=col>nCount_RNA</th><th scope=col>nFeature_RNA</th></tr>\n",
       "\t<tr><th></th><th scope=col>&lt;fct&gt;</th><th scope=col>&lt;dbl&gt;</th><th scope=col>&lt;int&gt;</th></tr>\n",
       "</thead>\n",
       "<tbody>\n",
       "\t<tr><th scope=row>cy53_1_CD45_neg_H12_S384_comb</th><td>cy53 </td><td> 50508</td><td>8124</td></tr>\n",
       "\t<tr><th scope=row>Cy81_FNA_CD45_G01_S265_comb</th><td>Cy81 </td><td>292554</td><td>3301</td></tr>\n",
       "\t<tr><th scope=row>cy94_cd45pos_F03_S159_comb</th><td>cy94 </td><td>240094</td><td>4246</td></tr>\n",
       "\t<tr><th scope=row>cy79_p4_CD45_pos_PD1_pos_F03_S351_comb</th><td>cy79 </td><td>177665</td><td>3824</td></tr>\n",
       "\t<tr><th scope=row>cy94_cd45pos_C05_S125_comb</th><td>cy94 </td><td>830771</td><td>7004</td></tr>\n",
       "\t<tr><th scope=row>CY89A_CD45_POS_6_H05_S185_comb</th><td>CY89A</td><td> 82518</td><td>2905</td></tr>\n",
       "</tbody>\n",
       "</table>\n"
      ],
      "text/latex": [
       "A data.frame: 6 × 3\n",
       "\\begin{tabular}{r|lll}\n",
       "  & orig.ident & nCount\\_RNA & nFeature\\_RNA\\\\\n",
       "  & <fct> & <dbl> & <int>\\\\\n",
       "\\hline\n",
       "\tcy53\\_1\\_CD45\\_neg\\_H12\\_S384\\_comb & cy53  &  50508 & 8124\\\\\n",
       "\tCy81\\_FNA\\_CD45\\_G01\\_S265\\_comb & Cy81  & 292554 & 3301\\\\\n",
       "\tcy94\\_cd45pos\\_F03\\_S159\\_comb & cy94  & 240094 & 4246\\\\\n",
       "\tcy79\\_p4\\_CD45\\_pos\\_PD1\\_pos\\_F03\\_S351\\_comb & cy79  & 177665 & 3824\\\\\n",
       "\tcy94\\_cd45pos\\_C05\\_S125\\_comb & cy94  & 830771 & 7004\\\\\n",
       "\tCY89A\\_CD45\\_POS\\_6\\_H05\\_S185\\_comb & CY89A &  82518 & 2905\\\\\n",
       "\\end{tabular}\n"
      ],
      "text/markdown": [
       "\n",
       "A data.frame: 6 × 3\n",
       "\n",
       "| <!--/--> | orig.ident &lt;fct&gt; | nCount_RNA &lt;dbl&gt; | nFeature_RNA &lt;int&gt; |\n",
       "|---|---|---|---|\n",
       "| cy53_1_CD45_neg_H12_S384_comb | cy53  |  50508 | 8124 |\n",
       "| Cy81_FNA_CD45_G01_S265_comb | Cy81  | 292554 | 3301 |\n",
       "| cy94_cd45pos_F03_S159_comb | cy94  | 240094 | 4246 |\n",
       "| cy79_p4_CD45_pos_PD1_pos_F03_S351_comb | cy79  | 177665 | 3824 |\n",
       "| cy94_cd45pos_C05_S125_comb | cy94  | 830771 | 7004 |\n",
       "| CY89A_CD45_POS_6_H05_S185_comb | CY89A |  82518 | 2905 |\n",
       "\n"
      ],
      "text/plain": [
       "                                       orig.ident nCount_RNA nFeature_RNA\n",
       "cy53_1_CD45_neg_H12_S384_comb          cy53        50508     8124        \n",
       "Cy81_FNA_CD45_G01_S265_comb            Cy81       292554     3301        \n",
       "cy94_cd45pos_F03_S159_comb             cy94       240094     4246        \n",
       "cy79_p4_CD45_pos_PD1_pos_F03_S351_comb cy79       177665     3824        \n",
       "cy94_cd45pos_C05_S125_comb             cy94       830771     7004        \n",
       "CY89A_CD45_POS_6_H05_S185_comb         CY89A       82518     2905        "
      ]
     },
     "metadata": {},
     "output_type": "display_data"
    }
   ],
   "source": [
    "metadata <- jerby_b_cells@meta.data\n",
    "head(metadata)\n",
    "saveRDS(object = metadata, file = file.path( \".\", \"Single-Cell\", \"jerby_b_cells_metadata.RDS\"))\n",
    "write.csv(metadata, row.names = TRUE, file = file.path( \".\", \"Single-Cell\", \"jerby_b_cells_metadata.csv\"), quote = FALSE)"
   ]
  },
  {
   "cell_type": "code",
   "execution_count": 5,
   "metadata": {},
   "outputs": [
    {
     "data": {
      "text/plain": [
       "3 x 5 sparse Matrix of class \"dgCMatrix\"\n",
       "         cy53_1_CD45_neg_H12_S384_comb Cy81_FNA_CD45_G01_S265_comb\n",
       "C9orf152                             .                           .\n",
       "RPS11                               93                         419\n",
       "ELMO2                                2                           .\n",
       "         cy94_cd45pos_F03_S159_comb cy79_p4_CD45_pos_PD1_pos_F03_S351_comb\n",
       "C9orf152                          .                                      .\n",
       "RPS11                           113                                    238\n",
       "ELMO2                            67                                      .\n",
       "         cy94_cd45pos_C05_S125_comb\n",
       "C9orf152                          .\n",
       "RPS11                           900\n",
       "ELMO2                             ."
      ]
     },
     "metadata": {},
     "output_type": "display_data"
    }
   ],
   "source": [
    "counts <- jerby_b_cells@assays$RNA@counts\n",
    "head(counts[1:3, 1:5])\n",
    "saveRDS(object = counts, file = file.path( \".\", \"Single-Cell\", \"jerby_b_cells_counts.RDS\"))\n",
    "write.csv(counts, row.names = TRUE, file = file.path( \".\", \"Single-Cell\", \"jerby_b_cells_counts.csv\"), quote = FALSE)"
   ]
  },
  {
   "cell_type": "markdown",
   "metadata": {},
   "source": [
    "How to create Seurat Object from data in text comma separated values (csv) format."
   ]
  },
  {
   "cell_type": "code",
   "execution_count": 6,
   "metadata": {},
   "outputs": [],
   "source": [
    "\n",
    "counts <- read.csv(  file = file.path( \".\", \"Single-Cell\", \"jerby_b_cells_counts.csv\"))\n",
    "# Set first column as row names an dremove it \n",
    "rownames(counts) <- counts[,\"X\"]\n",
    "counts <- counts[,setdiff(colnames(counts), \"X\")]\n",
    "\n",
    "\n",
    "metadata <- read.csv( file = file.path( \".\", \"Single-Cell\", \"jerby_b_cells_metadata.csv\"))\n",
    "rownames(metadata) <- metadata[,\"X\"]\n",
    "metadata <- metadata[,setdiff(colnames(metadata), \"X\")]\n",
    "\n",
    "jerby_b_cells <- CreateSeuratObject( counts = counts, \n",
    "                                  meta.data = metadata)\n"
   ]
  },
  {
   "cell_type": "markdown",
   "metadata": {},
   "source": [
    "## Convert `Seurat` to `sce` object"
   ]
  },
  {
   "cell_type": "code",
   "execution_count": 13,
   "metadata": {},
   "outputs": [
    {
     "data": {
      "text/plain": [
       "class: SingleCellExperiment \n",
       "dim: 23686 920 \n",
       "metadata(0):\n",
       "assays(2): counts logcounts\n",
       "rownames(23686): C9orf152 RPS11 ... CTSC AQP7\n",
       "rowData names(0):\n",
       "colnames(920): cy53_1_CD45_neg_H12_S384_comb\n",
       "  Cy81_FNA_CD45_G01_S265_comb ... cy128_CD45pos_S168\n",
       "  CY75_1_CD45_CD8_8__S371_comb_BCD8\n",
       "colData names(4): orig.ident nCount_RNA nFeature_RNA ident\n",
       "reducedDimNames(0):\n",
       "altExpNames(0):"
      ]
     },
     "metadata": {},
     "output_type": "display_data"
    }
   ],
   "source": [
    "jerby_b_cells.sce <- as.SingleCellExperiment(jerby_b_cells)\n",
    "jerby_b_cells.sce"
   ]
  },
  {
   "cell_type": "markdown",
   "metadata": {},
   "source": [
    "## Pathway analysis of cell clusters\n",
    "The pathway analysis is at the very end of a scRNA-seq workflow. This means, that any Q/C was already performed, the data was normalized and cells were already clustered.\n",
    "\n",
    "The ReactomeGSA package can now be used to get pathway-level expression values for every cell cluster. This is achieved by calculating the mean gene expression for every cluster and then submitting this data to a gene set variation analysis.\n",
    "\n",
    "All of this is wrapped in the single `analyse_sc_clusters` function."
   ]
  },
  {
   "cell_type": "code",
   "execution_count": 7,
   "metadata": {
    "colab": {
     "base_uri": "https://localhost:8080/"
    },
    "id": "Pl0lFUANx2gZ",
    "outputId": "ac9344c4-c99c-4d2c-ffc3-c54ca3fa1114"
   },
   "outputs": [
    {
     "name": "stderr",
     "output_type": "stream",
     "text": [
      "Calculating average cluster expression...\n",
      "\n",
      "Converting expression data to string... (This may take a moment)\n",
      "\n",
      "Conversion complete\n",
      "\n",
      "Submitting request to Reactome API...\n",
      "\n",
      "Compressing request data...\n",
      "\n",
      "Reactome Analysis submitted succesfully\n",
      "\n",
      "Converting dataset Seurat...\n",
      "\n",
      "Mapping identifiers...\n",
      "\n",
      "Performing gene set analysis using ssGSEA\n",
      "\n",
      "Analysing dataset 'Seurat' using ssGSEA\n",
      "\n",
      "Creating REACTOME visualization\n",
      "\n",
      "Retrieving result...\n",
      "\n"
     ]
    }
   ],
   "source": [
    "## -----------------------------------------------------------------------------\n",
    "library(ReactomeGSA)\n",
    "\n",
    "gsva_result <- analyse_sc_clusters(jerby_b_cells, \n",
    "                                    use_interactors = TRUE, # This is the default\n",
    "                                    include_disease_pathways = TRUE,\n",
    "                                    create_reactome_visualization = TRUE,\n",
    "                                    create_reports = TRUE,\n",
    "                                    report_email = TRUE,\n",
    "                                    verbose = TRUE)\n"
   ]
  },
  {
   "cell_type": "markdown",
   "metadata": {},
   "source": [
    "The resulting object is a standard `ReactomeAnalysisResult` object."
   ]
  },
  {
   "cell_type": "code",
   "execution_count": 8,
   "metadata": {
    "colab": {
     "base_uri": "https://localhost:8080/",
     "height": 146
    },
    "id": "3B2gqG8hx5vC",
    "outputId": "b33c6fa1-f481-4f49-9510-2d96ca522844"
   },
   "outputs": [
    {
     "data": {
      "text/plain": [
       "ReactomeAnalysisResult object\n",
       "  Reactome Release: 78\n",
       "  Results:\n",
       "  - Seurat:\n",
       "    2352 pathways\n",
       "    7773 fold changes for genes\n",
       "  No Reactome visualizations available"
      ]
     },
     "metadata": {},
     "output_type": "display_data"
    }
   ],
   "source": [
    "gsva_result\n",
    "#> ReactomeAnalysisResult object\n",
    "#>   Reactome Release: 77\n",
    "#>   Results:\n",
    "#>   - Seurat:\n",
    "#>     1729 pathways\n",
    "#>     10862 fold changes for genes\n",
    "#>   No Reactome visualizations available\n",
    "#> ReactomeAnalysisResult"
   ]
  },
  {
   "cell_type": "markdown",
   "metadata": {},
   "source": [
    "`pathways` returns the pathway-level expression values per cell cluster:"
   ]
  },
  {
   "cell_type": "code",
   "execution_count": 9,
   "metadata": {
    "colab": {
     "base_uri": "https://localhost:8080/",
     "height": 191
    },
    "id": "pltWpFBMx7m5",
    "outputId": "0feb5eb6-34a2-4a28-b3ba-c7e85ae818bc"
   },
   "outputs": [
    {
     "data": {
      "text/html": [
       "<table class=\"dataframe\">\n",
       "<caption>A data.frame: 3 × 43</caption>\n",
       "<thead>\n",
       "\t<tr><th></th><th scope=col>Name</th><th scope=col>cy043</th><th scope=col>cy102</th><th scope=col>cy103</th><th scope=col>cy105</th><th scope=col>cy106</th><th scope=col>cy110</th><th scope=col>cy112</th><th scope=col>cy116</th><th scope=col>cy1211</th><th scope=col>⋯</th><th scope=col>CY88CD45</th><th scope=col>CY88CD45POS</th><th scope=col>CY89A</th><th scope=col>CY89COREQ1</th><th scope=col>CY89FNA</th><th scope=col>CY89NEG</th><th scope=col>cy94</th><th scope=col>CY94CD45POS</th><th scope=col>cy98</th><th scope=col>MGH00478</th></tr>\n",
       "\t<tr><th></th><th scope=col>&lt;chr&gt;</th><th scope=col>&lt;dbl&gt;</th><th scope=col>&lt;dbl&gt;</th><th scope=col>&lt;dbl&gt;</th><th scope=col>&lt;dbl&gt;</th><th scope=col>&lt;dbl&gt;</th><th scope=col>&lt;dbl&gt;</th><th scope=col>&lt;dbl&gt;</th><th scope=col>&lt;dbl&gt;</th><th scope=col>&lt;dbl&gt;</th><th scope=col>⋯</th><th scope=col>&lt;dbl&gt;</th><th scope=col>&lt;dbl&gt;</th><th scope=col>&lt;dbl&gt;</th><th scope=col>&lt;dbl&gt;</th><th scope=col>&lt;dbl&gt;</th><th scope=col>&lt;dbl&gt;</th><th scope=col>&lt;dbl&gt;</th><th scope=col>&lt;dbl&gt;</th><th scope=col>&lt;dbl&gt;</th><th scope=col>&lt;dbl&gt;</th></tr>\n",
       "</thead>\n",
       "<tbody>\n",
       "\t<tr><th scope=row>R-HSA-1059683</th><td>Interleukin-6 signaling        </td><td>0.03595786</td><td>0.10694047</td><td>0.1296952</td><td>0.1155994</td><td>0.12527146</td><td>0.09773796</td><td>0.09682869</td><td>0.09804331</td><td>0.09506169</td><td>⋯</td><td>0.1184485</td><td>0.1355839</td><td>0.1193090</td><td>0.1004320</td><td>0.09414832</td><td>0.07956359</td><td>0.1323674</td><td>0.1379925</td><td>0.09825269</td><td>0.10735109</td></tr>\n",
       "\t<tr><th scope=row>R-HSA-109606</th><td>Intrinsic Pathway for Apoptosis</td><td>0.03316198</td><td>0.09165477</td><td>0.1033249</td><td>0.1042538</td><td>0.09615995</td><td>0.08637229</td><td>0.08637553</td><td>0.08335034</td><td>0.07971921</td><td>⋯</td><td>0.1047299</td><td>0.1008414</td><td>0.1076095</td><td>0.1058187</td><td>0.08507195</td><td>0.06334457</td><td>0.1025746</td><td>0.1077137</td><td>0.07953727</td><td>0.09784127</td></tr>\n",
       "\t<tr><th scope=row>R-HSA-109703</th><td>PKB-mediated events            </td><td>0.16736344</td><td>0.20765846</td><td>0.3137443</td><td>0.2618210</td><td>0.30147896</td><td>0.24829925</td><td>0.20619402</td><td>0.17720227</td><td>0.15013858</td><td>⋯</td><td>0.2528630</td><td>0.2327125</td><td>0.3246562</td><td>0.3627270</td><td>0.30713370</td><td>0.18717829</td><td>0.3215819</td><td>0.3514958</td><td>0.25348044</td><td>0.20682928</td></tr>\n",
       "</tbody>\n",
       "</table>\n"
      ],
      "text/latex": [
       "A data.frame: 3 × 43\n",
       "\\begin{tabular}{r|lllllllllllllllllllll}\n",
       "  & Name & cy043 & cy102 & cy103 & cy105 & cy106 & cy110 & cy112 & cy116 & cy1211 & ⋯ & CY88CD45 & CY88CD45POS & CY89A & CY89COREQ1 & CY89FNA & CY89NEG & cy94 & CY94CD45POS & cy98 & MGH00478\\\\\n",
       "  & <chr> & <dbl> & <dbl> & <dbl> & <dbl> & <dbl> & <dbl> & <dbl> & <dbl> & <dbl> & ⋯ & <dbl> & <dbl> & <dbl> & <dbl> & <dbl> & <dbl> & <dbl> & <dbl> & <dbl> & <dbl>\\\\\n",
       "\\hline\n",
       "\tR-HSA-1059683 & Interleukin-6 signaling         & 0.03595786 & 0.10694047 & 0.1296952 & 0.1155994 & 0.12527146 & 0.09773796 & 0.09682869 & 0.09804331 & 0.09506169 & ⋯ & 0.1184485 & 0.1355839 & 0.1193090 & 0.1004320 & 0.09414832 & 0.07956359 & 0.1323674 & 0.1379925 & 0.09825269 & 0.10735109\\\\\n",
       "\tR-HSA-109606 & Intrinsic Pathway for Apoptosis & 0.03316198 & 0.09165477 & 0.1033249 & 0.1042538 & 0.09615995 & 0.08637229 & 0.08637553 & 0.08335034 & 0.07971921 & ⋯ & 0.1047299 & 0.1008414 & 0.1076095 & 0.1058187 & 0.08507195 & 0.06334457 & 0.1025746 & 0.1077137 & 0.07953727 & 0.09784127\\\\\n",
       "\tR-HSA-109703 & PKB-mediated events             & 0.16736344 & 0.20765846 & 0.3137443 & 0.2618210 & 0.30147896 & 0.24829925 & 0.20619402 & 0.17720227 & 0.15013858 & ⋯ & 0.2528630 & 0.2327125 & 0.3246562 & 0.3627270 & 0.30713370 & 0.18717829 & 0.3215819 & 0.3514958 & 0.25348044 & 0.20682928\\\\\n",
       "\\end{tabular}\n"
      ],
      "text/markdown": [
       "\n",
       "A data.frame: 3 × 43\n",
       "\n",
       "| <!--/--> | Name &lt;chr&gt; | cy043 &lt;dbl&gt; | cy102 &lt;dbl&gt; | cy103 &lt;dbl&gt; | cy105 &lt;dbl&gt; | cy106 &lt;dbl&gt; | cy110 &lt;dbl&gt; | cy112 &lt;dbl&gt; | cy116 &lt;dbl&gt; | cy1211 &lt;dbl&gt; | ⋯ ⋯ | CY88CD45 &lt;dbl&gt; | CY88CD45POS &lt;dbl&gt; | CY89A &lt;dbl&gt; | CY89COREQ1 &lt;dbl&gt; | CY89FNA &lt;dbl&gt; | CY89NEG &lt;dbl&gt; | cy94 &lt;dbl&gt; | CY94CD45POS &lt;dbl&gt; | cy98 &lt;dbl&gt; | MGH00478 &lt;dbl&gt; |\n",
       "|---|---|---|---|---|---|---|---|---|---|---|---|---|---|---|---|---|---|---|---|---|---|\n",
       "| R-HSA-1059683 | Interleukin-6 signaling         | 0.03595786 | 0.10694047 | 0.1296952 | 0.1155994 | 0.12527146 | 0.09773796 | 0.09682869 | 0.09804331 | 0.09506169 | ⋯ | 0.1184485 | 0.1355839 | 0.1193090 | 0.1004320 | 0.09414832 | 0.07956359 | 0.1323674 | 0.1379925 | 0.09825269 | 0.10735109 |\n",
       "| R-HSA-109606 | Intrinsic Pathway for Apoptosis | 0.03316198 | 0.09165477 | 0.1033249 | 0.1042538 | 0.09615995 | 0.08637229 | 0.08637553 | 0.08335034 | 0.07971921 | ⋯ | 0.1047299 | 0.1008414 | 0.1076095 | 0.1058187 | 0.08507195 | 0.06334457 | 0.1025746 | 0.1077137 | 0.07953727 | 0.09784127 |\n",
       "| R-HSA-109703 | PKB-mediated events             | 0.16736344 | 0.20765846 | 0.3137443 | 0.2618210 | 0.30147896 | 0.24829925 | 0.20619402 | 0.17720227 | 0.15013858 | ⋯ | 0.2528630 | 0.2327125 | 0.3246562 | 0.3627270 | 0.30713370 | 0.18717829 | 0.3215819 | 0.3514958 | 0.25348044 | 0.20682928 |\n",
       "\n"
      ],
      "text/plain": [
       "              Name                            cy043      cy102      cy103    \n",
       "R-HSA-1059683 Interleukin-6 signaling         0.03595786 0.10694047 0.1296952\n",
       "R-HSA-109606  Intrinsic Pathway for Apoptosis 0.03316198 0.09165477 0.1033249\n",
       "R-HSA-109703  PKB-mediated events             0.16736344 0.20765846 0.3137443\n",
       "              cy105     cy106      cy110      cy112      cy116      cy1211    \n",
       "R-HSA-1059683 0.1155994 0.12527146 0.09773796 0.09682869 0.09804331 0.09506169\n",
       "R-HSA-109606  0.1042538 0.09615995 0.08637229 0.08637553 0.08335034 0.07971921\n",
       "R-HSA-109703  0.2618210 0.30147896 0.24829925 0.20619402 0.17720227 0.15013858\n",
       "              ⋯ CY88CD45  CY88CD45POS CY89A     CY89COREQ1 CY89FNA   \n",
       "R-HSA-1059683 ⋯ 0.1184485 0.1355839   0.1193090 0.1004320  0.09414832\n",
       "R-HSA-109606  ⋯ 0.1047299 0.1008414   0.1076095 0.1058187  0.08507195\n",
       "R-HSA-109703  ⋯ 0.2528630 0.2327125   0.3246562 0.3627270  0.30713370\n",
       "              CY89NEG    cy94      CY94CD45POS cy98       MGH00478  \n",
       "R-HSA-1059683 0.07956359 0.1323674 0.1379925   0.09825269 0.10735109\n",
       "R-HSA-109606  0.06334457 0.1025746 0.1077137   0.07953727 0.09784127\n",
       "R-HSA-109703  0.18717829 0.3215819 0.3514958   0.25348044 0.20682928"
      ]
     },
     "metadata": {},
     "output_type": "display_data"
    }
   ],
   "source": [
    "pathway_expression <- pathways(gsva_result)\n",
    "\n",
    "# simplify the column names by removing the default dataset identifier\n",
    "colnames(pathway_expression) <- gsub(\"\\\\.Seurat\", \"\", colnames(pathway_expression))\n",
    "\n",
    "pathway_expression[1:3,]"
   ]
  },
  {
   "cell_type": "markdown",
   "metadata": {},
   "source": [
    "A simple approach to find the most relevant pathways is to assess the maximum difference in expression for every pathway:"
   ]
  },
  {
   "cell_type": "code",
   "execution_count": 10,
   "metadata": {
    "colab": {
     "base_uri": "https://localhost:8080/",
     "height": 284
    },
    "id": "Sa_-NN95x_VJ",
    "outputId": "0824794a-7ebf-4d44-96eb-514bed71c6f2"
   },
   "outputs": [
    {
     "data": {
      "text/html": [
       "<table class=\"dataframe\">\n",
       "<caption>A data.frame: 6 × 4</caption>\n",
       "<thead>\n",
       "\t<tr><th></th><th scope=col>name</th><th scope=col>min</th><th scope=col>max</th><th scope=col>diff</th></tr>\n",
       "\t<tr><th></th><th scope=col>&lt;chr&gt;</th><th scope=col>&lt;dbl&gt;</th><th scope=col>&lt;dbl&gt;</th><th scope=col>&lt;dbl&gt;</th></tr>\n",
       "</thead>\n",
       "<tbody>\n",
       "\t<tr><th scope=row>R-HSA-2142696</th><td>Synthesis of Hepoxilins (HX) and Trioxilins (TrX)                             </td><td>-0.4976489</td><td>0.4986795</td><td>0.9963285</td></tr>\n",
       "\t<tr><th scope=row>R-HSA-166020</th><td>Transfer of LPS from LBP carrier to CD14                                      </td><td>-0.4846377</td><td>0.4986795</td><td>0.9833172</td></tr>\n",
       "\t<tr><th scope=row>R-HSA-166662</th><td>Lectin pathway of complement activation                                       </td><td>-0.4833472</td><td>0.4993881</td><td>0.9827353</td></tr>\n",
       "\t<tr><th scope=row>R-HSA-2855086</th><td>Ficolins bind to repetitive carbohydrate structures on the target cell surface</td><td>-0.4833472</td><td>0.4993881</td><td>0.9827353</td></tr>\n",
       "\t<tr><th scope=row>R-HSA-5619108</th><td>Defective SLC27A4 causes ichthyosis prematurity syndrome (IPS)                </td><td>-0.4837359</td><td>0.4927536</td><td>0.9764895</td></tr>\n",
       "\t<tr><th scope=row>R-HSA-5619049</th><td>Defective SLC40A1 causes hemochromatosis 4 (HFE4) (macrophages)               </td><td>-0.4812882</td><td>0.4872141</td><td>0.9685023</td></tr>\n",
       "</tbody>\n",
       "</table>\n"
      ],
      "text/latex": [
       "A data.frame: 6 × 4\n",
       "\\begin{tabular}{r|llll}\n",
       "  & name & min & max & diff\\\\\n",
       "  & <chr> & <dbl> & <dbl> & <dbl>\\\\\n",
       "\\hline\n",
       "\tR-HSA-2142696 & Synthesis of Hepoxilins (HX) and Trioxilins (TrX)                              & -0.4976489 & 0.4986795 & 0.9963285\\\\\n",
       "\tR-HSA-166020 & Transfer of LPS from LBP carrier to CD14                                       & -0.4846377 & 0.4986795 & 0.9833172\\\\\n",
       "\tR-HSA-166662 & Lectin pathway of complement activation                                        & -0.4833472 & 0.4993881 & 0.9827353\\\\\n",
       "\tR-HSA-2855086 & Ficolins bind to repetitive carbohydrate structures on the target cell surface & -0.4833472 & 0.4993881 & 0.9827353\\\\\n",
       "\tR-HSA-5619108 & Defective SLC27A4 causes ichthyosis prematurity syndrome (IPS)                 & -0.4837359 & 0.4927536 & 0.9764895\\\\\n",
       "\tR-HSA-5619049 & Defective SLC40A1 causes hemochromatosis 4 (HFE4) (macrophages)                & -0.4812882 & 0.4872141 & 0.9685023\\\\\n",
       "\\end{tabular}\n"
      ],
      "text/markdown": [
       "\n",
       "A data.frame: 6 × 4\n",
       "\n",
       "| <!--/--> | name &lt;chr&gt; | min &lt;dbl&gt; | max &lt;dbl&gt; | diff &lt;dbl&gt; |\n",
       "|---|---|---|---|---|\n",
       "| R-HSA-2142696 | Synthesis of Hepoxilins (HX) and Trioxilins (TrX)                              | -0.4976489 | 0.4986795 | 0.9963285 |\n",
       "| R-HSA-166020 | Transfer of LPS from LBP carrier to CD14                                       | -0.4846377 | 0.4986795 | 0.9833172 |\n",
       "| R-HSA-166662 | Lectin pathway of complement activation                                        | -0.4833472 | 0.4993881 | 0.9827353 |\n",
       "| R-HSA-2855086 | Ficolins bind to repetitive carbohydrate structures on the target cell surface | -0.4833472 | 0.4993881 | 0.9827353 |\n",
       "| R-HSA-5619108 | Defective SLC27A4 causes ichthyosis prematurity syndrome (IPS)                 | -0.4837359 | 0.4927536 | 0.9764895 |\n",
       "| R-HSA-5619049 | Defective SLC40A1 causes hemochromatosis 4 (HFE4) (macrophages)                | -0.4812882 | 0.4872141 | 0.9685023 |\n",
       "\n"
      ],
      "text/plain": [
       "              name                                                                          \n",
       "R-HSA-2142696 Synthesis of Hepoxilins (HX) and Trioxilins (TrX)                             \n",
       "R-HSA-166020  Transfer of LPS from LBP carrier to CD14                                      \n",
       "R-HSA-166662  Lectin pathway of complement activation                                       \n",
       "R-HSA-2855086 Ficolins bind to repetitive carbohydrate structures on the target cell surface\n",
       "R-HSA-5619108 Defective SLC27A4 causes ichthyosis prematurity syndrome (IPS)                \n",
       "R-HSA-5619049 Defective SLC40A1 causes hemochromatosis 4 (HFE4) (macrophages)               \n",
       "              min        max       diff     \n",
       "R-HSA-2142696 -0.4976489 0.4986795 0.9963285\n",
       "R-HSA-166020  -0.4846377 0.4986795 0.9833172\n",
       "R-HSA-166662  -0.4833472 0.4993881 0.9827353\n",
       "R-HSA-2855086 -0.4833472 0.4993881 0.9827353\n",
       "R-HSA-5619108 -0.4837359 0.4927536 0.9764895\n",
       "R-HSA-5619049 -0.4812882 0.4872141 0.9685023"
      ]
     },
     "metadata": {},
     "output_type": "display_data"
    }
   ],
   "source": [
    "# find the maximum differently expressed pathway\n",
    "max_difference <- do.call(rbind, apply(pathway_expression, 1, function(row) {\n",
    "    values <- as.numeric(row[2:length(row)])\n",
    "    return(data.frame(name = row[1], min = min(values), max = max(values)))\n",
    "}))\n",
    "\n",
    "max_difference$diff <- max_difference$max - max_difference$min\n",
    "\n",
    "# sort based on the difference\n",
    "max_difference <- max_difference[order(max_difference$diff, decreasing = T), ]\n",
    "\n",
    "head(max_difference)\n"
   ]
  },
  {
   "cell_type": "markdown",
   "metadata": {},
   "source": [
    "## Plotting the results\n",
    "The ReactomeGSA package contains two functions to visualize these pathway results. The first simply plots the expression for a selected pathway:"
   ]
  },
  {
   "cell_type": "markdown",
   "metadata": {},
   "source": [
    "For a better overview, the expression of multiple pathways can be shown as a heatmap using `gplots` `heatmap.2` function:"
   ]
  },
  {
   "cell_type": "code",
   "execution_count": 11,
   "metadata": {
    "colab": {
     "base_uri": "https://localhost:8080/",
     "height": 437
    },
    "id": "kg9sOdCL-Qie",
    "outputId": "5653fa2d-eb5a-46b3-ae75-a7bf2ea3056b"
   },
   "outputs": [
    {
     "data": {
      "image/png": "[encoded data removed]",
      "text/plain": [
       "plot without title"
      ]
     },
     "metadata": {
      "image/png": {
       "height": 420,
       "width": 420
      }
     },
     "output_type": "display_data"
    }
   ],
   "source": [
    "plot_gsva_pathway(gsva_result, pathway_id = rownames(max_difference)[1])"
   ]
  },
  {
   "cell_type": "markdown",
   "metadata": {},
   "source": [
    "The plot_gsva_heatmap function can also be used to only display specific pathways:"
   ]
  },
  {
   "cell_type": "code",
   "execution_count": 17,
   "metadata": {
    "colab": {
     "base_uri": "https://localhost:8080/",
     "height": 437
    },
    "id": "V8PuBXlv-cIm",
    "outputId": "8ef0504c-e2f8-417a-bbc6-c3e1d1d8d153"
   },
   "outputs": [
    {
     "data": {
      "image/png": "[encoded data removed]",
      "text/plain": [
       "plot without title"
      ]
     },
     "metadata": {
      "image/png": {
       "height": 600,
       "width": 600
      }
     },
     "output_type": "display_data"
    }
   ],
   "source": [
    "options(repr.plot.width=10, repr.plot.height=10)\n",
    "# limit to selected B cell related pathways\n",
    "relevant_pathways <- c(\"R-HSA-983170\", \"R-HSA-388841\", \"R-HSA-2132295\", \"R-HSA-983705\", \"R-HSA-5690714\")\n",
    "plot_gsva_heatmap(gsva_result, \n",
    "                  pathway_ids = relevant_pathways, # limit to these pathways\n",
    "                  margins = c(6,30), # adapt the figure margins in heatmap.2\n",
    "                  dendrogram = \"col\", # only plot column dendrogram\n",
    "                  scale = \"row\", # scale for each pathway\n",
    "                  key = FALSE, # don't display the color key\n",
    "                  lwid=c(0.1,4)) # remove the white space on the left\n"
   ]
  },
  {
   "cell_type": "markdown",
   "metadata": {},
   "source": [
    "This analysis shows us that cluster 8 has a marked up-regulation of B Cell receptor signalling, which is linked to a co-stimulation of the CD28 family. Additionally, there is a gradient among the cluster with respect to genes releated to antigen presentation.\n",
    "\n",
    "Therefore, we are able to further classify the observed B cell subtypes based on their pathway activity."
   ]
  },
  {
   "cell_type": "markdown",
   "metadata": {},
   "source": [
    "## Pathway-level PCA\n",
    "\n",
    "The pathway-level expression analysis can also be used to run a Principal Component Analysis on the samples. This is simplified through the function `plot_gsva_pca`:"
   ]
  },
  {
   "cell_type": "code",
   "execution_count": null,
   "metadata": {
    "colab": {
     "base_uri": "https://localhost:8080/",
     "height": 437
    },
    "id": "766oWD5e-fZj",
    "outputId": "69263924-fcb8-4d91-d3f0-0594dc14f292"
   },
   "outputs": [],
   "source": [
    "options(repr.plot.width=10, repr.plot.height=7)\n",
    "plot_gsva_pca(gsva_result)"
   ]
  },
  {
   "cell_type": "markdown",
   "metadata": {},
   "source": [
    "In this analysis, cluster 11 is a clear outlier from the other B cell subtypes and therefore might be prioritised for further evaluation.\n",
    "\n"
   ]
  },
  {
   "cell_type": "markdown",
   "metadata": {},
   "source": [
    "## Reactome Pathway Visualization"
   ]
  },
  {
   "cell_type": "code",
   "execution_count": 20,
   "metadata": {},
   "outputs": [
    {
     "name": "stderr",
     "output_type": "stream",
     "text": [
      "No Reactome links available\n",
      "\n",
      "\n"
     ]
    }
   ],
   "source": [
    "# Get the URL link to visualize the Reactome Pathways analysis results\n",
    "reactome_links(gsva_result)"
   ]
  },
  {
   "cell_type": "code",
   "execution_count": 19,
   "metadata": {},
   "outputs": [
    {
     "ename": "ERROR",
     "evalue": "Error in .local(x, ...): Result does not contain any visualizations.\n",
     "output_type": "error",
     "traceback": [
      "Error in .local(x, ...): Result does not contain any visualizations.\nTraceback:\n",
      "1. open_reactome(gsva_result)",
      "2. open_reactome(gsva_result)",
      "3. .local(x, ...)",
      "4. stop(\"Result does not contain any visualizations.\")"
     ]
    }
   ],
   "source": [
    "# Open the URL link to visualize the Reactome Pathways analysis results\n",
    "open_reactome(gsva_result)"
   ]
  },
  {
   "cell_type": "markdown",
   "metadata": {},
   "source": [
    "## Additional Information\n",
    "The following hyperlink provides a tutorial on how to perform single-cell analysis with Seurat, preform normalization and clustering on the data, prior to the Reactome pathways analysis. Please visit if you're interested. https://github.com/reactome/ReactomeGSA-tutorials/blob/master/notebooks/Jerby_Arnon_Seurat.ipynb"
   ]
  },
  {
   "cell_type": "markdown",
   "metadata": {},
   "source": [
    "## Session Info"
   ]
  },
  {
   "cell_type": "code",
   "execution_count": null,
   "metadata": {
    "colab": {
     "base_uri": "https://localhost:8080/",
     "height": 1000
    },
    "id": "rjUSxNRz-jfC",
    "outputId": "4dbe22e4-3b1d-4720-ca6f-9b4c2ae0b0aa"
   },
   "outputs": [],
   "source": [
    "sessionInfo()"
   ]
  }
 ],
 "metadata": {
  "colab": {
   "collapsed_sections": [],
   "name": "Reactome GSA single cell.ipynb",
   "provenance": []
  },
  "kernelspec": {
   "display_name": "R",
   "name": "ir"
  },
  "language_info": {
   "name": "R"
  }
 },
 "nbformat": 4,
 "nbformat_minor": 4
}
