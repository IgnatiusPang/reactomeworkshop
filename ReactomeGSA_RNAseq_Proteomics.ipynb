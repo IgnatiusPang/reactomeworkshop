{
 "cells": [
  {
   "cell_type": "markdown",
   "metadata": {
    "id": "kuKbX9FJCTQM"
   },
   "source": [
    "# Using the ReactomeGSA package\n",
    "\n",
    "This tutorial is based on the vignette created by Johannes Griss (2021-09-23) https://www.bioconductor.org/packages/release/bioc/vignettes/ReactomeGSA/inst/doc/using-reactomegsa.html\n",
    "\n",
    "\n",
    "## Introduction\n",
    "\n",
    "The ReactomeGSA package is a client to the web-based Reactome Analysis System. Essentially, it performs a gene set analysis using the latest version of the Reactome pathway database as a backend.\n",
    "\n",
    "The main advantages of using the Reactome Analysis System are:\n",
    "*   Simultaneous analysis and visualization of different types of ’omics data\n",
    "*   Support for direct comparison across different species\n",
    "* Directly linked with Reactome’s powerful pathway browser producing publication-ready figures of your gene set analysis\n",
    "\n",
    "## Citation\n",
    "To cite this package, use\n",
    "\n",
    "Griss J. ReactomeGSA, https://github.com/reactome/ReactomeGSA (2019)\n",
    "\n",
    "Griss, J., Viteri, G., Sidiropoulos, K., Nguyen, V., Fabregat, A., & Hermjakob, H. (2020). ReactomeGSA - Efficient Multi-Omics Comparative Pathway Analysis. Molecular & cellular proteomics : MCP, 19(12), 2115–2125. https://doi.org/10.1074/mcp.TIR120.002155\n",
    "\n"
   ]
  },
  {
   "cell_type": "markdown",
   "metadata": {
    "id": "oBhYQYES5aRj"
   },
   "source": [
    "## Using Google Colab\n",
    "\n",
    "To use the notebook directly with R:\n",
    "Open your favorite browser.\n",
    "Go to this URL: https://colab.research.google.com/#create=true&language=r, or this short URL https://colab.to/r\n",
    "After accessing the URL, you will be taken to a new Colab notebook with the default title Unitled.ipynb.\n",
    "At first glance, there is no difference between notebooks with Python and R runtimes. However, if we go to the “Runtime” settings, and select “Change runtime type”, we will get a dialog confirming that we are already in R runtime.\n",
    "Above referenced from https://towardsdatascience.com/how-to-use-r-in-google-colab-b6e02d736497\n",
    "\n",
    "## Installation\n",
    "\n",
    "The ReactomeGSA package can be directly installed from Bioconductor:\n",
    "\n",
    "For more information, see https://bioconductor.org/install/.\n",
    "\n",
    "The installation of ReactomeGSA.data takes approximately 30 minutes, since it requires the installation of many dependencies. This step should be run prior to the hands-on part of the workshop.\n"
   ]
  },
  {
   "cell_type": "code",
   "execution_count": 1,
   "metadata": {
    "id": "m66Zrn0W24te"
   },
   "outputs": [
    {
     "name": "stderr",
     "output_type": "stream",
     "text": [
      "Loading required package: ReactomeGSA\n",
      "\n"
     ]
    }
   ],
   "source": [
    "# Test if Bioconductor's BioManager is installed \n",
    "if (!requireNamespace(\"BiocManager\", quietly = TRUE)) {\n",
    "    install.packages(\"BiocManager\")\n",
    "   BiocManager::install(version = \"3.14\")\n",
    "}\n",
    "\n",
    "\n",
    "if (!require(ReactomeGSA))\n",
    "  BiocManager::install(\"ReactomeGSA\")\n",
    "\n",
    "## Install the ReactomeGSA.data package\n",
    "if (!require(ReactomeGSA.data))\n",
    "  BiocManager::install(\"ReactomeGSA.data\")"
   ]
  },
  {
   "cell_type": "markdown",
   "metadata": {
    "id": "kGzACmhQym12"
   },
   "source": [
    "For more information, see https://bioconductor.org/install/."
   ]
  },
  {
   "cell_type": "markdown",
   "metadata": {
    "id": "CVNwBP2B_KzB"
   },
   "source": [
    "The installation of ReactomeGSA.data takes approximately 30 minutes, since it requires the installation of many dependencies. This step should be run prior to the hands-on part of the workshop."
   ]
  },
  {
   "cell_type": "markdown",
   "metadata": {
    "id": "Rfdxdh3m6hgv"
   },
   "source": [
    "## Getting available methods\n",
    "\n",
    "The Reactome Analysis System will be continuously updated. Before starting your analysis it is therefore a good approach to check which methods are available.\n",
    "\n",
    "This can simply be done by using:"
   ]
  },
  {
   "cell_type": "code",
   "execution_count": 4,
   "metadata": {
    "colab": {
     "base_uri": "https://localhost:8080/",
     "height": 34
    },
    "id": "y4BX6lN65hAm",
    "outputId": "08dfa2f9-b087-4084-ceb7-457023248608"
   },
   "outputs": [
    {
     "data": {
      "text/html": [
       "<style>\n",
       ".list-inline {list-style: none; margin:0; padding: 0}\n",
       ".list-inline>li {display: inline-block}\n",
       ".list-inline>li:not(:last-child)::after {content: \"\\00b7\"; padding: 0 .5ex}\n",
       "</style>\n",
       "<ol class=list-inline><li>'PADOG'</li><li>'Camera'</li><li>'ssGSEA'</li></ol>\n"
      ],
      "text/latex": [
       "\\begin{enumerate*}\n",
       "\\item 'PADOG'\n",
       "\\item 'Camera'\n",
       "\\item 'ssGSEA'\n",
       "\\end{enumerate*}\n"
      ],
      "text/markdown": [
       "1. 'PADOG'\n",
       "2. 'Camera'\n",
       "3. 'ssGSEA'\n",
       "\n",
       "\n"
      ],
      "text/plain": [
       "[1] \"PADOG\"  \"Camera\" \"ssGSEA\""
      ]
     },
     "metadata": {},
     "output_type": "display_data"
    }
   ],
   "source": [
    "library(ReactomeGSA)\n",
    "\n",
    "available_methods <- get_reactome_methods(print_methods = FALSE, return_result = TRUE)\n",
    "\n",
    "# only show the names of the available methods\n",
    "available_methods$name\n",
    "#> [1] \"PADOG\"  \"Camera\" \"ssGSEA\"\n",
    "\n"
   ]
  },
  {
   "cell_type": "markdown",
   "metadata": {
    "id": "yQd1knS16lp9"
   },
   "source": [
    "To get more information about a specific method, set `print_details` to `TRUE` and specify the `method`:"
   ]
  },
  {
   "cell_type": "code",
   "execution_count": 5,
   "metadata": {
    "colab": {
     "base_uri": "https://localhost:8080/",
     "height": 51
    },
    "id": "riKa7Xuk59gH",
    "outputId": "69362530-6e2a-4555-e294-4d28f3dfcfca"
   },
   "outputs": [
    {
     "data": {
      "text/html": [
       "<style>\n",
       ".list-inline {list-style: none; margin:0; padding: 0}\n",
       ".list-inline>li {display: inline-block}\n",
       ".list-inline>li:not(:last-child)::after {content: \"\\00b7\"; padding: 0 .5ex}\n",
       "</style>\n",
       "<ol class=list-inline><li>'use_interactors (bool, False)'</li><li>'include_disease_pathways (bool, True)'</li><li>'max_missing_values (float, 0.5)'</li><li>'create_reactome_visualization (bool, True)'</li><li>'create_reports (bool, False)'</li><li>'email (string, )'</li><li>'reactome_server (string, production)'</li><li>'sample_groups (string, )'</li><li>'discrete_norm_function (string, TMM)'</li><li>'continuous_norm_function (string, none)'</li></ol>\n"
      ],
      "text/latex": [
       "\\begin{enumerate*}\n",
       "\\item 'use\\_interactors (bool, False)'\n",
       "\\item 'include\\_disease\\_pathways (bool, True)'\n",
       "\\item 'max\\_missing\\_values (float, 0.5)'\n",
       "\\item 'create\\_reactome\\_visualization (bool, True)'\n",
       "\\item 'create\\_reports (bool, False)'\n",
       "\\item 'email (string, )'\n",
       "\\item 'reactome\\_server (string, production)'\n",
       "\\item 'sample\\_groups (string, )'\n",
       "\\item 'discrete\\_norm\\_function (string, TMM)'\n",
       "\\item 'continuous\\_norm\\_function (string, none)'\n",
       "\\end{enumerate*}\n"
      ],
      "text/markdown": [
       "1. 'use_interactors (bool, False)'\n",
       "2. 'include_disease_pathways (bool, True)'\n",
       "3. 'max_missing_values (float, 0.5)'\n",
       "4. 'create_reactome_visualization (bool, True)'\n",
       "5. 'create_reports (bool, False)'\n",
       "6. 'email (string, )'\n",
       "7. 'reactome_server (string, production)'\n",
       "8. 'sample_groups (string, )'\n",
       "9. 'discrete_norm_function (string, TMM)'\n",
       "10. 'continuous_norm_function (string, none)'\n",
       "\n",
       "\n"
      ],
      "text/plain": [
       " [1] \"use_interactors (bool, False)\"             \n",
       " [2] \"include_disease_pathways (bool, True)\"     \n",
       " [3] \"max_missing_values (float, 0.5)\"           \n",
       " [4] \"create_reactome_visualization (bool, True)\"\n",
       " [5] \"create_reports (bool, False)\"              \n",
       " [6] \"email (string, )\"                          \n",
       " [7] \"reactome_server (string, production)\"      \n",
       " [8] \"sample_groups (string, )\"                  \n",
       " [9] \"discrete_norm_function (string, TMM)\"      \n",
       "[10] \"continuous_norm_function (string, none)\"   "
      ]
     },
     "metadata": {},
     "output_type": "display_data"
    }
   ],
   "source": [
    "padog_params <- available_methods$parameters[available_methods$name == \"PADOG\"][[1]]\n",
    "\n",
    "paste0(padog_params$name, \" (\", padog_params$type, \", \", padog_params$default, \")\")"
   ]
  },
  {
   "cell_type": "markdown",
   "metadata": {
    "id": "uAsOE-Wp6GjQ"
   },
   "source": [
    "## Creating an analysis request\n",
    "\n",
    "To start a gene set analysis, you first have to create an analysis request. This is a simple S4 class that takes care of submitting multiple datasets simultaneously to the analysis system.\n",
    "\n",
    "When creating the request object, you already have to specify the analysis method you want to use:\n",
    "\n"
   ]
  },
  {
   "cell_type": "code",
   "execution_count": 6,
   "metadata": {
    "colab": {
     "base_uri": "https://localhost:8080/",
     "height": 72
    },
    "id": "EV9OsvfG60n4",
    "outputId": "90e2cb32-f355-464b-d5ef-2c6a99f08fc4"
   },
   "outputs": [
    {
     "data": {
      "text/plain": [
       "ReactomeAnalysisRequestObject\n",
       "  Method = Camera\n",
       "  No request data stored"
      ]
     },
     "metadata": {},
     "output_type": "display_data"
    }
   ],
   "source": [
    "# Create a new request object using 'Camera' for the gene set analysis\n",
    "my_request <-ReactomeAnalysisRequest(method = \"Camera\")\n",
    "\n",
    "my_request\n",
    "#> ReactomeAnalysisRequestObject\n",
    "#>   Method = Camera\n",
    "#>   No request data stored\n",
    "#> ReactomeAnalysisRequest"
   ]
  },
  {
   "cell_type": "markdown",
   "metadata": {
    "id": "LrlLeY6Z7COm"
   },
   "source": [
    "## Setting parameters\n",
    "To get a list of supported parameters for each method, use the ``get_reactome_methods`` function (see above).\n",
    "\n",
    "Parameters are simply set using the ``set_parameters`` function:"
   ]
  },
  {
   "cell_type": "code",
   "execution_count": 7,
   "metadata": {
    "colab": {
     "base_uri": "https://localhost:8080/",
     "height": 109
    },
    "id": "4-kQdaSM69ZR",
    "outputId": "bb746ab6-bfcd-4be8-e50e-bd05c322867b"
   },
   "outputs": [
    {
     "data": {
      "text/plain": [
       "ReactomeAnalysisRequestObject\n",
       "  Method = Camera\n",
       "  Parameters:\n",
       "  - max_missing_values: 0.5\n",
       "  - create_reactome_visualization: TRUE\n",
       "  Datasets: none"
      ]
     },
     "metadata": {},
     "output_type": "display_data"
    }
   ],
   "source": [
    "# set the maximum number of allowed missing values to 50%\n",
    "my_request <- set_parameters( request = my_request, \n",
    "                              max_missing_values = 0.5,                            \n",
    "                              create_reactome_visualization = TRUE)\n",
    "\n",
    "my_request\n",
    "#> ReactomeAnalysisRequestObject\n",
    "#>   Method = Camera\n",
    "#>   Parameters:\n",
    "#>   - max_missing_values: 0.5\n",
    "#>   Datasets: none\n",
    "#> ReactomeAnalysisRequest"
   ]
  },
  {
   "cell_type": "markdown",
   "metadata": {
    "id": "O0jiec237TdK"
   },
   "source": [
    "Multiple parameters can by set simulataneously by simply adding more name-value pairs to the function call."
   ]
  },
  {
   "cell_type": "markdown",
   "metadata": {
    "id": "bYeOiFlC03Mh"
   },
   "source": [
    "## Adding datasets\n",
    "\n",
    "One analysis request can contain multiple datasets. This can be used to, for example, visualize the results of an RNA-seq and Proteomics experiment (of the same / similar samples) side by side:\n"
   ]
  },
  {
   "cell_type": "code",
   "execution_count": 8,
   "metadata": {
    "id": "psvpmlBz7QDf"
   },
   "outputs": [],
   "source": [
    "library(ReactomeGSA.data)\n",
    "data(\"griss_melanoma_proteomics\")\n"
   ]
  },
  {
   "cell_type": "markdown",
   "metadata": {
    "id": "wssRisLJ1DS9"
   },
   "source": [
    "This is a limma `EList` object with the sample data already added\n"
   ]
  },
  {
   "cell_type": "code",
   "execution_count": 9,
   "metadata": {
    "colab": {
     "base_uri": "https://localhost:8080/",
     "height": 302
    },
    "id": "n908Qlr19-T6",
    "outputId": "7973f9e9-b6f8-4267-b2f4-a5d4a0774ab0"
   },
   "outputs": [
    {
     "data": {
      "text/html": [
       "'EList'"
      ],
      "text/latex": [
       "'EList'"
      ],
      "text/markdown": [
       "'EList'"
      ],
      "text/plain": [
       "[1] \"EList\"\n",
       "attr(,\"package\")\n",
       "[1] \"limma\""
      ]
     },
     "metadata": {},
     "output_type": "display_data"
    },
    {
     "data": {
      "text/html": [
       "<table class=\"dataframe\">\n",
       "<caption>A data.frame: 6 × 3</caption>\n",
       "<thead>\n",
       "\t<tr><th></th><th scope=col>patient.id</th><th scope=col>condition</th><th scope=col>cell.type</th></tr>\n",
       "\t<tr><th></th><th scope=col>&lt;fct&gt;</th><th scope=col>&lt;fct&gt;</th><th scope=col>&lt;fct&gt;</th></tr>\n",
       "</thead>\n",
       "<tbody>\n",
       "\t<tr><th scope=row>M-D MOCK PBMCB</th><td>P3</td><td>MOCK</td><td>PBMCB</td></tr>\n",
       "\t<tr><th scope=row>M-D MCM PBMCB</th><td>P3</td><td>MCM </td><td>PBMCB</td></tr>\n",
       "\t<tr><th scope=row>M-K MOCK PBMCB</th><td>P4</td><td>MOCK</td><td>PBMCB</td></tr>\n",
       "\t<tr><th scope=row>M-K MCM PBMCB</th><td>P4</td><td>MCM </td><td>PBMCB</td></tr>\n",
       "\t<tr><th scope=row>P-A MOCK PBMCB</th><td>P1</td><td>MOCK</td><td>PBMCB</td></tr>\n",
       "\t<tr><th scope=row>P-A MCM PBMCB</th><td>P1</td><td>MCM </td><td>PBMCB</td></tr>\n",
       "</tbody>\n",
       "</table>\n"
      ],
      "text/latex": [
       "A data.frame: 6 × 3\n",
       "\\begin{tabular}{r|lll}\n",
       "  & patient.id & condition & cell.type\\\\\n",
       "  & <fct> & <fct> & <fct>\\\\\n",
       "\\hline\n",
       "\tM-D MOCK PBMCB & P3 & MOCK & PBMCB\\\\\n",
       "\tM-D MCM PBMCB & P3 & MCM  & PBMCB\\\\\n",
       "\tM-K MOCK PBMCB & P4 & MOCK & PBMCB\\\\\n",
       "\tM-K MCM PBMCB & P4 & MCM  & PBMCB\\\\\n",
       "\tP-A MOCK PBMCB & P1 & MOCK & PBMCB\\\\\n",
       "\tP-A MCM PBMCB & P1 & MCM  & PBMCB\\\\\n",
       "\\end{tabular}\n"
      ],
      "text/markdown": [
       "\n",
       "A data.frame: 6 × 3\n",
       "\n",
       "| <!--/--> | patient.id &lt;fct&gt; | condition &lt;fct&gt; | cell.type &lt;fct&gt; |\n",
       "|---|---|---|---|\n",
       "| M-D MOCK PBMCB | P3 | MOCK | PBMCB |\n",
       "| M-D MCM PBMCB | P3 | MCM  | PBMCB |\n",
       "| M-K MOCK PBMCB | P4 | MOCK | PBMCB |\n",
       "| M-K MCM PBMCB | P4 | MCM  | PBMCB |\n",
       "| P-A MOCK PBMCB | P1 | MOCK | PBMCB |\n",
       "| P-A MCM PBMCB | P1 | MCM  | PBMCB |\n",
       "\n"
      ],
      "text/plain": [
       "               patient.id condition cell.type\n",
       "M-D MOCK PBMCB P3         MOCK      PBMCB    \n",
       "M-D MCM PBMCB  P3         MCM       PBMCB    \n",
       "M-K MOCK PBMCB P4         MOCK      PBMCB    \n",
       "M-K MCM PBMCB  P4         MCM       PBMCB    \n",
       "P-A MOCK PBMCB P1         MOCK      PBMCB    \n",
       "P-A MCM PBMCB  P1         MCM       PBMCB    "
      ]
     },
     "metadata": {},
     "output_type": "display_data"
    }
   ],
   "source": [
    "class(griss_melanoma_proteomics)\n",
    "#> [1] \"EList\"\n",
    "#> attr(,\"package\")\n",
    "#> [1] \"limma\"\n",
    "head(griss_melanoma_proteomics$samples)\n",
    "#>                patient.id condition cell.type\n",
    "#> M-D MOCK PBMCB         P3      MOCK     PBMCB\n",
    "#> M-D MCM PBMCB          P3       MCM     PBMCB\n",
    "#> M-K MOCK PBMCB         P4      MOCK     PBMCB\n",
    "#> M-K MCM PBMCB          P4       MCM     PBMCB\n",
    "#> P-A MOCK PBMCB         P1      MOCK     PBMCB\n",
    "#> P-A MCM PBMCB          P1       MCM     PBMCB"
   ]
  },
  {
   "cell_type": "markdown",
   "metadata": {},
   "source": [
    "This is an example of how to import the proteomics dataset from text tab-delimited file:"
   ]
  },
  {
   "cell_type": "code",
   "execution_count": 10,
   "metadata": {},
   "outputs": [],
   "source": [
    "data_dir <- \".\"\n",
    "\n",
    "file_path <- file.path( data_dir, \"Proteomics\" ) \n",
    "if (! file.exists(file_path)){\n",
    "    dir.create(file_path, showWarnings = TRUE, recursive = TRUE, mode = mode)\n",
    "}\n",
    "\n",
    "# Create object for storing proteomics data\n",
    "griss_melanoma_proteomics <- new(\"EList\")\n",
    "\n",
    "# Read protein abundances \n",
    "protein_abundances <- read.table( file.path(data_dir, \"Proteomics\", \"protein_abundances.tab\"), \n",
    "                                  sep=\"\\t\", stringsAsFactors = FALSE, header=TRUE, check.names\t=FALSE ) \n",
    "\n",
    "## Set the first column as the row names and then remove it \n",
    "rownames( protein_abundances ) <- protein_abundances[,\"uniprot_acc\"]\n",
    "protein_abundances <- protein_abundances[,setdiff(colnames(protein_abundances), \"uniprot_acc\")]\n",
    "\n",
    "griss_melanoma_proteomics$E <- protein_abundances\n",
    "\n",
    "#  Read list of samples\n",
    "proteomic_samples <-  read.table( file.path(data_dir, \"Proteomics\", \"list_of_samples.tab\"), \n",
    "                                  sep=\"\\t\", stringsAsFactors = FALSE, header=TRUE, check.names\t=FALSE ) \n",
    "   \n",
    "rownames( proteomic_samples ) <- proteomic_samples[,\"samples.id\"]\n",
    "proteomic_samples <- proteomic_samples[,setdiff(colnames(proteomic_samples), \"samples.id\")]\n",
    "  \n",
    "griss_melanoma_proteomics$samples <- proteomic_samples\n",
    "\n",
    "# Read list of proteins\n",
    "list_of_proteins <-  read.table( file.path(data_dir, \"Proteomics\", \"list_of_proteins.tab\"), \n",
    "                                  sep=\"\\t\", stringsAsFactors = FALSE, header=TRUE, check.names\t=FALSE ) \n",
    "   \n",
    "rownames( list_of_proteins ) <- list_of_proteins[,\"uniprot_acc\"]\n",
    "list_of_proteins <- list_of_proteins[,setdiff(colnames(list_of_proteins), \"uniprot_acc\")]\n",
    "\n",
    "griss_melanoma_proteomics$genes <- list_of_proteins"
   ]
  },
  {
   "cell_type": "markdown",
   "metadata": {
    "id": "1tlA4_IJ1MbN"
   },
   "source": [
    "The dataset can now simply be added to the request using the `add_dataset` function:\n"
   ]
  },
  {
   "cell_type": "code",
   "execution_count": 11,
   "metadata": {
    "colab": {
     "base_uri": "https://localhost:8080/",
     "height": 146
    },
    "id": "Jm9oMBuFAZmJ",
    "outputId": "981342e9-3e8e-408e-95f8-e8b0e72086b1"
   },
   "outputs": [
    {
     "data": {
      "text/plain": [
       "ReactomeAnalysisRequestObject\n",
       "  Method = Camera\n",
       "  Parameters:\n",
       "  - max_missing_values: 0.5\n",
       "  - create_reactome_visualization: TRUE\n",
       "  Datasets:\n",
       "  - Proteomics (proteomics_int)\n",
       "    No parameters set."
      ]
     },
     "metadata": {},
     "output_type": "display_data"
    }
   ],
   "source": [
    "my_request <- add_dataset(request = my_request, \n",
    "                          expression_values = griss_melanoma_proteomics, \n",
    "                          name = \"Proteomics\", \n",
    "                          type = \"proteomics_int\",\n",
    "                          comparison_factor = \"condition\", \n",
    "                          comparison_group_1 = \"MOCK\", \n",
    "                          comparison_group_2 = \"MCM\",\n",
    "                          additional_factors = c(\"cell.type\", \"patient.id\"))\n",
    "my_request\n",
    "\n",
    "#> ReactomeAnalysisRequestObject\n",
    "#>   Method = Camera\n",
    "#>   Parameters:\n",
    "#>   - max_missing_values: 0.5\n",
    "#>   Datasets:\n",
    "#>   - Proteomics (proteomics_int)\n",
    "#>     No parameters set.\n",
    "#> ReactomeAnalysisRequest"
   ]
  },
  {
   "cell_type": "markdown",
   "metadata": {
    "id": "iXZT0oy81VkU"
   },
   "source": [
    "Several datasets (of the same experiment) can be added to one request. This RNA-seq data is stored as an `edgeR DGEList` object:"
   ]
  },
  {
   "cell_type": "code",
   "execution_count": 12,
   "metadata": {
    "colab": {
     "base_uri": "https://localhost:8080/",
     "height": 302
    },
    "id": "9octZxBVAckl",
    "outputId": "9c2fc22d-eddc-418e-81c4-769764e9ca16"
   },
   "outputs": [
    {
     "data": {
      "text/html": [
       "'DGEList'"
      ],
      "text/latex": [
       "'DGEList'"
      ],
      "text/markdown": [
       "'DGEList'"
      ],
      "text/plain": [
       "[1] \"DGEList\"\n",
       "attr(,\"package\")\n",
       "[1] \"edgeR\""
      ]
     },
     "metadata": {},
     "output_type": "display_data"
    },
    {
     "data": {
      "text/html": [
       "<table class=\"dataframe\">\n",
       "<caption>A data.frame: 6 × 6</caption>\n",
       "<thead>\n",
       "\t<tr><th></th><th scope=col>group</th><th scope=col>lib.size</th><th scope=col>norm.factors</th><th scope=col>patient</th><th scope=col>cell_type</th><th scope=col>treatment</th></tr>\n",
       "\t<tr><th></th><th scope=col>&lt;fct&gt;</th><th scope=col>&lt;dbl&gt;</th><th scope=col>&lt;dbl&gt;</th><th scope=col>&lt;chr&gt;</th><th scope=col>&lt;chr&gt;</th><th scope=col>&lt;fct&gt;</th></tr>\n",
       "</thead>\n",
       "<tbody>\n",
       "\t<tr><th scope=row>195-13</th><td>MOCK</td><td>29907534</td><td>1.0629977</td><td>P1</td><td>TIBC </td><td>MOCK</td></tr>\n",
       "\t<tr><th scope=row>195-14</th><td>MCM </td><td>26397322</td><td>0.9927768</td><td>P1</td><td>TIBC </td><td>MCM </td></tr>\n",
       "\t<tr><th scope=row>195-19</th><td>MOCK</td><td>18194834</td><td>1.0077827</td><td>P2</td><td>PBMCB</td><td>MOCK</td></tr>\n",
       "\t<tr><th scope=row>195-20</th><td>MCM </td><td>24282215</td><td>1.0041410</td><td>P2</td><td>PBMCB</td><td>MCM </td></tr>\n",
       "\t<tr><th scope=row>197-11</th><td>MOCK</td><td>22628117</td><td>0.9522869</td><td>P1</td><td>PBMCB</td><td>MOCK</td></tr>\n",
       "\t<tr><th scope=row>197-12</th><td>MCM </td><td>23319849</td><td>1.0115732</td><td>P1</td><td>PBMCB</td><td>MCM </td></tr>\n",
       "</tbody>\n",
       "</table>\n"
      ],
      "text/latex": [
       "A data.frame: 6 × 6\n",
       "\\begin{tabular}{r|llllll}\n",
       "  & group & lib.size & norm.factors & patient & cell\\_type & treatment\\\\\n",
       "  & <fct> & <dbl> & <dbl> & <chr> & <chr> & <fct>\\\\\n",
       "\\hline\n",
       "\t195-13 & MOCK & 29907534 & 1.0629977 & P1 & TIBC  & MOCK\\\\\n",
       "\t195-14 & MCM  & 26397322 & 0.9927768 & P1 & TIBC  & MCM \\\\\n",
       "\t195-19 & MOCK & 18194834 & 1.0077827 & P2 & PBMCB & MOCK\\\\\n",
       "\t195-20 & MCM  & 24282215 & 1.0041410 & P2 & PBMCB & MCM \\\\\n",
       "\t197-11 & MOCK & 22628117 & 0.9522869 & P1 & PBMCB & MOCK\\\\\n",
       "\t197-12 & MCM  & 23319849 & 1.0115732 & P1 & PBMCB & MCM \\\\\n",
       "\\end{tabular}\n"
      ],
      "text/markdown": [
       "\n",
       "A data.frame: 6 × 6\n",
       "\n",
       "| <!--/--> | group &lt;fct&gt; | lib.size &lt;dbl&gt; | norm.factors &lt;dbl&gt; | patient &lt;chr&gt; | cell_type &lt;chr&gt; | treatment &lt;fct&gt; |\n",
       "|---|---|---|---|---|---|---|\n",
       "| 195-13 | MOCK | 29907534 | 1.0629977 | P1 | TIBC  | MOCK |\n",
       "| 195-14 | MCM  | 26397322 | 0.9927768 | P1 | TIBC  | MCM  |\n",
       "| 195-19 | MOCK | 18194834 | 1.0077827 | P2 | PBMCB | MOCK |\n",
       "| 195-20 | MCM  | 24282215 | 1.0041410 | P2 | PBMCB | MCM  |\n",
       "| 197-11 | MOCK | 22628117 | 0.9522869 | P1 | PBMCB | MOCK |\n",
       "| 197-12 | MCM  | 23319849 | 1.0115732 | P1 | PBMCB | MCM  |\n",
       "\n"
      ],
      "text/plain": [
       "       group lib.size norm.factors patient cell_type treatment\n",
       "195-13 MOCK  29907534 1.0629977    P1      TIBC      MOCK     \n",
       "195-14 MCM   26397322 0.9927768    P1      TIBC      MCM      \n",
       "195-19 MOCK  18194834 1.0077827    P2      PBMCB     MOCK     \n",
       "195-20 MCM   24282215 1.0041410    P2      PBMCB     MCM      \n",
       "197-11 MOCK  22628117 0.9522869    P1      PBMCB     MOCK     \n",
       "197-12 MCM   23319849 1.0115732    P1      PBMCB     MCM      "
      ]
     },
     "metadata": {},
     "output_type": "display_data"
    }
   ],
   "source": [
    "data(\"griss_melanoma_rnaseq\")\n",
    "\n",
    "# only keep genes with >= 100 reads in total\n",
    "total_reads <- rowSums(griss_melanoma_rnaseq$counts)\n",
    "griss_melanoma_rnaseq <- griss_melanoma_rnaseq[total_reads >= 100, ]\n",
    "\n",
    "# this is a edgeR DGEList object\n",
    "class(griss_melanoma_rnaseq)\n",
    "#> [1] \"DGEList\"\n",
    "#> attr(,\"package\")\n",
    "#> [1] \"edgeR\"\n",
    "head(griss_melanoma_rnaseq$samples)\n",
    "#>        group lib.size norm.factors patient cell_type treatment\n",
    "#> 195-13  MOCK 29907534    1.0629977      P1      TIBC      MOCK\n",
    "#> 195-14   MCM 26397322    0.9927768      P1      TIBC       MCM\n",
    "#> 195-19  MOCK 18194834    1.0077827      P2     PBMCB      MOCK\n",
    "#> 195-20   MCM 24282215    1.0041410      P2     PBMCB       MCM\n",
    "#> 197-11  MOCK 22628117    0.9522869      P1     PBMCB      MOCK\n",
    "#> 197-12   MCM 23319849    1.0115732      P1     PBMCB       MCM\n"
   ]
  },
  {
   "cell_type": "markdown",
   "metadata": {},
   "source": [
    "This is an example of how to upload the RNA-Seq data from text tab-delimited file:"
   ]
  },
  {
   "cell_type": "code",
   "execution_count": 13,
   "metadata": {},
   "outputs": [],
   "source": [
    "data_dir <- \".\"\n",
    "\n",
    "file_path <- file.path( data_dir, \"RNA-Seq\" ) \n",
    "if (! file.exists(file_path)){\n",
    "    dir.create(file_path, showWarnings = TRUE, recursive = TRUE, mode = mode)\n",
    "}\n",
    "\n",
    "# Create object for storing proteomics data\n",
    "griss_melanoma_rnaseq <- new(\"DGEList\")\n",
    "\n",
    "# Read transcript abundances \n",
    "transcript_abundances <- read.table( file.path(data_dir, \"RNA-Seq\", \"transcript_abundances.tab\"), \n",
    "                                  sep=\"\\t\", stringsAsFactors = FALSE, header=TRUE, check.names\t=FALSE ) \n",
    "\n",
    "# Set the ensembl_gene_id column as the row names and then remove the column   \n",
    "rownames( transcript_abundances ) <- transcript_abundances[,\"ensembl_gene_id\"]\n",
    "transcript_abundances <- transcript_abundances[,setdiff(colnames(transcript_abundances), \"ensembl_gene_id\")]\n",
    "\n",
    "griss_melanoma_rnaseq$counts <- transcript_abundances\n",
    "\n",
    "\n",
    "# Read list of samples\n",
    "rnaseq_samples <- read.table( file.path(data_dir, \"RNA-Seq\", \"list_of_samples.tab\"), \n",
    "                                  sep=\"\\t\", stringsAsFactors = FALSE, header=TRUE, check.names\t=FALSE ) \n",
    "\n",
    "rownames( rnaseq_samples ) <- rnaseq_samples[,\"samples.id\"]\n",
    "rnaseq_samples <- rnaseq_samples[,setdiff(colnames(rnaseq_samples), \"samples.id\")]\n",
    "\n",
    "griss_melanoma_rnaseq$samples <- rnaseq_samples\n"
   ]
  },
  {
   "cell_type": "markdown",
   "metadata": {
    "id": "huBNpmzG4xMc"
   },
   "source": [
    "Again, the dataset can simply be added using `add_dataset`. Here, we added an additional parameter to the `add_dataset` call. Such additional parameters are treated as additional dataset-level parameters.\n",
    "\n"
   ]
  },
  {
   "cell_type": "code",
   "execution_count": 14,
   "metadata": {
    "colab": {
     "base_uri": "https://localhost:8080/",
     "height": 257
    },
    "id": "TodlN4fSAfo8",
    "outputId": "27cc5e02-8355-4bae-96cc-4e69c4d90e2f"
   },
   "outputs": [
    {
     "name": "stderr",
     "output_type": "stream",
     "text": [
      "Converting expression data to string... (This may take a moment)\n",
      "\n",
      "Conversion complete\n",
      "\n"
     ]
    },
    {
     "data": {
      "text/plain": [
       "ReactomeAnalysisRequestObject\n",
       "  Method = Camera\n",
       "  Parameters:\n",
       "  - max_missing_values: 0.5\n",
       "  - create_reactome_visualization: TRUE\n",
       "  Datasets:\n",
       "  - Proteomics (proteomics_int)\n",
       "    No parameters set.\n",
       "  - RNA-seq (rnaseq_counts)\n",
       "    discrete_norm_function: TMM"
      ]
     },
     "metadata": {},
     "output_type": "display_data"
    }
   ],
   "source": [
    "## -----------------------------------------------------------------------------\n",
    "# add the dataset\n",
    "my_request <- add_dataset(request = my_request, \n",
    "                          expression_values = griss_melanoma_rnaseq, \n",
    "                          name = \"RNA-seq\", \n",
    "                          type = \"rnaseq_counts\",\n",
    "                          comparison_factor = \"treatment\", \n",
    "                          comparison_group_1 = \"MOCK\", \n",
    "                          comparison_group_2 = \"MCM\",\n",
    "                          additional_factors = c(\"cell_type\", \"patient\"),\n",
    "                          # This adds the dataset-level parameter 'discrete_norm_function' to the request\n",
    "                          discrete_norm_function = \"TMM\")\n",
    "#> Converting expression data to string... (This may take a moment)\n",
    "#> Conversion complete                          \n",
    "my_request\n",
    "#> ReactomeAnalysisRequestObject\n",
    "#>   Method = Camera\n",
    "#>   Parameters:\n",
    "#>   - max_missing_values: 0.5\n",
    "#>   Datasets:\n",
    "#>   - Proteomics (proteomics_int)\n",
    "#>     No parameters set.\n",
    "#>   - RNA-seq (rnaseq_counts)\n",
    "#>     discrete_norm_function: TMM\n",
    "#> ReactomeAnalysisRequest"
   ]
  },
  {
   "cell_type": "markdown",
   "metadata": {
    "id": "qjrDtgva5Fc_"
   },
   "source": [
    "## Sample annotations\n",
    "\n",
    "Datasets can be passed as limma `EList`, edgeR `DGEList`, any implementation of the Bioconductor `ExpressionSet`, or simply a `data.frame`.\n",
    "\n",
    "For the first three, sample annotations are simply read from the respective slot. When supplying the expression values as a `data.frame`, the `sample_data` parameter has to be set using a `data.frame` where each row represents one sample and each column one proptery. If the the `sample_data` option is set while providing the expression data as an `EList`, `DGEList`, or `ExpressionSet`, the data in `sample_data` will be used instead of the sample annotations in the expression data object."
   ]
  },
  {
   "cell_type": "markdown",
   "metadata": {
    "id": "Keffo9MM5bdW"
   },
   "source": [
    "## Name\n",
    "\n",
    "Each dataset has to have a name. This can be anything but has to be unique within one analysis request.\n",
    "\n",
    "## Type\n",
    "\n",
    "The ReactomeAnalysisSystem supports different types of ’omics data. To get a list of supported types, use the `get_reactome_data_types` function:"
   ]
  },
  {
   "cell_type": "code",
   "execution_count": 15,
   "metadata": {
    "colab": {
     "base_uri": "https://localhost:8080/"
    },
    "id": "ngjdz38MAmGB",
    "outputId": "5df9d4ea-d0d7-40d7-ddb3-90fcdd0f5dc9"
   },
   "outputs": [
    {
     "name": "stdout",
     "output_type": "stream",
     "text": [
      "rnaseq_counts:\n",
      "   RNA-seq (raw counts) \n",
      "   Raw RNA-seq based read counts per gene (recommended). \n",
      "rnaseq_norm:\n",
      "   RNA-seq (normalized) \n",
      "   log2 transformed, normalized RNA-seq based read counts per gene (f.e. RPKM, TPM) \n",
      "proteomics_int:\n",
      "   Proteomics (intensity) \n",
      "   Intensity-based quantitative proteomics data (for example, iTRAQ/TMT or intensity-based label-free quantitation). Values must be log2 transformed. \n",
      "proteomics_sc:\n",
      "   Proteomics (spectral counts) \n",
      "   Raw spectral-counts of label-free proteomics experiments \n",
      "microarray_norm:\n",
      "   Microarray (normalized) \n",
      "   Normalized and log2 transformed microarray-based gene expression values. \n"
     ]
    }
   ],
   "source": [
    "get_reactome_data_types()\n",
    "#> rnaseq_counts:\n",
    "#>    RNA-seq (raw counts) \n",
    "#>    Raw RNA-seq based read counts per gene (recommended). \n",
    "#> rnaseq_norm:\n",
    "#>    RNA-seq (normalized) \n",
    "#>    log2 transformed, normalized RNA-seq based read counts per gene (f.e. RPKM, TPM) \n",
    "#> proteomics_int:\n",
    "#>    Proteomics (intensity) \n",
    "#>    Intensity-based quantitative proteomics data (for example, iTRAQ/TMT or intensity-based label-free quantitation). Values must be log2 transformed. \n",
    "#> proteomics_sc:\n",
    "#>    Proteomics (spectral counts) \n",
    "#>    Raw spectral-counts of label-free proteomics experiments \n",
    "#> microarray_norm:\n",
    "#>    Microarray (normalized) \n",
    "#>    Normalized and log2 transformed microarray-based gene expression values."
   ]
  },
  {
   "cell_type": "markdown",
   "metadata": {
    "id": "cLN14Dw46IgC"
   },
   "source": [
    "## Defining the experimental design\n",
    "Defining the experimental design for a `ReactomeAnalysisRequest` is very simple. Basically, it only takes three parameters:\n",
    "\n",
    "* `comparison_factor`: Name of the property within the sample data to use\n",
    "* `comparison_group_1`: The first group to compare\n",
    "* `comparison_group_2`: The second group to compare\n",
    "\n",
    "The value set in `comparison_factor` must match a column name in the sample data (either the slot in an `Elist`, `DGEList`, or `ExpressionSet` object or in the sample_data parameter).\n",
    "\n",
    "Additionally, it is possible to define blocking factors. These are supported by all methods that rely on linear models in the backend. Some methods though might simply ignore this parameter. For more information on whether a method supports blocking factors, please use `get_reactome_methods`.\n",
    "\n",
    "Blocking factors can simply be set `additional_factors` to a vector of names. These should again reference properties (or columns) in the sample data.\n",
    "\n",
    "## Submitting the request\n",
    "\n",
    "Once the `ReactomeAnalysisRequest` is created, the complete analysis can be run using `perform_reactome_analysis`:"
   ]
  },
  {
   "cell_type": "code",
   "execution_count": 16,
   "metadata": {
    "colab": {
     "base_uri": "https://localhost:8080/"
    },
    "id": "aT1wUskqAnv7",
    "outputId": "0a5a398a-208a-4fb7-f4e2-4b1f4c2cd68a"
   },
   "outputs": [
    {
     "name": "stderr",
     "output_type": "stream",
     "text": [
      "Submitting request to Reactome API...\n",
      "\n",
      "Reactome Analysis submitted succesfully\n",
      "\n",
      "Converting dataset Proteomics...\n",
      "\n",
      "Mapping identifiers...\n",
      "\n",
      "Analysing dataset 'Proteomics' using Camera\n",
      "\n",
      "Analysing dataset 'RNA-seq' using Camera\n",
      "\n",
      "Creating REACTOME visualization\n",
      "\n",
      "Retrieving result...\n",
      "\n"
     ]
    }
   ],
   "source": [
    "result <- perform_reactome_analysis(request = my_request, compress = F)\n",
    "#> Submitting request to Reactome API...\n",
    "#> Reactome Analysis submitted succesfully\n",
    "#> Converting dataset Proteomics...\n",
    "#> Mapping identifiers...\n",
    "#> Performing gene set analysis using Camera\n",
    "#> Analysing dataset 'Proteomics' using Camera\n",
    "#> Analysing dataset 'RNA-seq' using Camera\n",
    "#> Creating REACTOME visualization\n",
    "#> Retrieving result..."
   ]
  },
  {
   "cell_type": "markdown",
   "metadata": {
    "id": "aJ6Py2qx6_ci"
   },
   "source": [
    "## Investigating the result\n",
    "The result object is a `ReactomeAnalysisResult` S4 class with several helper functions to access the data.\n",
    "\n",
    "To retrieve the names of all available results (generally one per dataset), use the `names` function:"
   ]
  },
  {
   "cell_type": "code",
   "execution_count": 17,
   "metadata": {
    "colab": {
     "base_uri": "https://localhost:8080/",
     "height": 34
    },
    "id": "eSphvR4YApK3",
    "outputId": "20194725-6b47-4a88-c162-4b49826f655c"
   },
   "outputs": [
    {
     "data": {
      "text/html": [
       "<style>\n",
       ".list-inline {list-style: none; margin:0; padding: 0}\n",
       ".list-inline>li {display: inline-block}\n",
       ".list-inline>li:not(:last-child)::after {content: \"\\00b7\"; padding: 0 .5ex}\n",
       "</style>\n",
       "<ol class=list-inline><li>'Proteomics'</li><li>'RNA-seq'</li></ol>\n"
      ],
      "text/latex": [
       "\\begin{enumerate*}\n",
       "\\item 'Proteomics'\n",
       "\\item 'RNA-seq'\n",
       "\\end{enumerate*}\n"
      ],
      "text/markdown": [
       "1. 'Proteomics'\n",
       "2. 'RNA-seq'\n",
       "\n",
       "\n"
      ],
      "text/plain": [
       "[1] \"Proteomics\" \"RNA-seq\"   "
      ]
     },
     "metadata": {},
     "output_type": "display_data"
    }
   ],
   "source": [
    "names(result)\n",
    "#> [1] \"Proteomics\" \"RNA-seq\""
   ]
  },
  {
   "cell_type": "markdown",
   "metadata": {
    "id": "Tq_M8joV7H6f"
   },
   "source": [
    "For every dataset, different result types may be available. These can be shown using the `result_types` function:"
   ]
  },
  {
   "cell_type": "code",
   "execution_count": 18,
   "metadata": {
    "colab": {
     "base_uri": "https://localhost:8080/",
     "height": 34
    },
    "id": "l8fIfAXyAp-m",
    "outputId": "77e4b702-ca7f-4d35-907d-fb180ab94ee7"
   },
   "outputs": [
    {
     "data": {
      "text/html": [
       "<style>\n",
       ".list-inline {list-style: none; margin:0; padding: 0}\n",
       ".list-inline>li {display: inline-block}\n",
       ".list-inline>li:not(:last-child)::after {content: \"\\00b7\"; padding: 0 .5ex}\n",
       "</style>\n",
       "<ol class=list-inline><li>'pathways'</li><li>'fold_changes'</li></ol>\n"
      ],
      "text/latex": [
       "\\begin{enumerate*}\n",
       "\\item 'pathways'\n",
       "\\item 'fold\\_changes'\n",
       "\\end{enumerate*}\n"
      ],
      "text/markdown": [
       "1. 'pathways'\n",
       "2. 'fold_changes'\n",
       "\n",
       "\n"
      ],
      "text/plain": [
       "[1] \"pathways\"     \"fold_changes\""
      ]
     },
     "metadata": {},
     "output_type": "display_data"
    }
   ],
   "source": [
    "result_types(result)\n",
    "#> [1] \"pathways\"     \"fold_changes\""
   ]
  },
  {
   "cell_type": "markdown",
   "metadata": {
    "id": "zb2deLL17f4L"
   },
   "source": [
    "The `Camera` analysis method returns two types of results, pathway-level data and gene- / protein-level fold changes.\n",
    "\n",
    "A specific result can be retrieved using the `get_result` method:"
   ]
  },
  {
   "cell_type": "code",
   "execution_count": 19,
   "metadata": {
    "colab": {
     "base_uri": "https://localhost:8080/",
     "height": 284
    },
    "id": "DvyLZ6e4Au6U",
    "outputId": "bcc03268-48d2-4808-ee1b-4ac7cc1ce860"
   },
   "outputs": [
    {
     "data": {
      "text/html": [
       "<table class=\"dataframe\">\n",
       "<caption>A data.frame: 6 × 7</caption>\n",
       "<thead>\n",
       "\t<tr><th></th><th scope=col>Identifier</th><th scope=col>logFC</th><th scope=col>AveExpr</th><th scope=col>t</th><th scope=col>P.Value</th><th scope=col>adj.P.Val</th><th scope=col>B</th></tr>\n",
       "\t<tr><th></th><th scope=col>&lt;chr&gt;</th><th scope=col>&lt;dbl&gt;</th><th scope=col>&lt;dbl&gt;</th><th scope=col>&lt;dbl&gt;</th><th scope=col>&lt;dbl&gt;</th><th scope=col>&lt;dbl&gt;</th><th scope=col>&lt;dbl&gt;</th></tr>\n",
       "</thead>\n",
       "<tbody>\n",
       "\t<tr><th scope=row>1</th><td>Q14526</td><td> 0.4937650</td><td>-3.346909</td><td>14.518391</td><td>1.520632e-10</td><td>8.269195e-07</td><td>13.997994</td></tr>\n",
       "\t<tr><th scope=row>2</th><td>Q6VY07</td><td> 0.2981411</td><td>-3.330347</td><td>13.560418</td><td>4.139351e-10</td><td>1.125489e-06</td><td>13.138788</td></tr>\n",
       "\t<tr><th scope=row>3</th><td>P07093</td><td> 1.7950301</td><td>-3.648968</td><td>12.283778</td><td>1.733660e-09</td><td>3.142547e-06</td><td>11.876960</td></tr>\n",
       "\t<tr><th scope=row>4</th><td>P10124</td><td> 1.0758634</td><td>-3.436961</td><td>10.322933</td><td>2.020996e-08</td><td>2.747545e-05</td><td> 9.636077</td></tr>\n",
       "\t<tr><th scope=row>5</th><td>P55210</td><td> 0.5018522</td><td>-3.347932</td><td> 9.510660</td><td>6.217196e-08</td><td>6.761822e-05</td><td> 8.583631</td></tr>\n",
       "\t<tr><th scope=row>6</th><td>O43683</td><td>-0.4754083</td><td>-3.345551</td><td>-9.362224</td><td>7.692124e-08</td><td>6.971628e-05</td><td> 8.382617</td></tr>\n",
       "</tbody>\n",
       "</table>\n"
      ],
      "text/latex": [
       "A data.frame: 6 × 7\n",
       "\\begin{tabular}{r|lllllll}\n",
       "  & Identifier & logFC & AveExpr & t & P.Value & adj.P.Val & B\\\\\n",
       "  & <chr> & <dbl> & <dbl> & <dbl> & <dbl> & <dbl> & <dbl>\\\\\n",
       "\\hline\n",
       "\t1 & Q14526 &  0.4937650 & -3.346909 & 14.518391 & 1.520632e-10 & 8.269195e-07 & 13.997994\\\\\n",
       "\t2 & Q6VY07 &  0.2981411 & -3.330347 & 13.560418 & 4.139351e-10 & 1.125489e-06 & 13.138788\\\\\n",
       "\t3 & P07093 &  1.7950301 & -3.648968 & 12.283778 & 1.733660e-09 & 3.142547e-06 & 11.876960\\\\\n",
       "\t4 & P10124 &  1.0758634 & -3.436961 & 10.322933 & 2.020996e-08 & 2.747545e-05 &  9.636077\\\\\n",
       "\t5 & P55210 &  0.5018522 & -3.347932 &  9.510660 & 6.217196e-08 & 6.761822e-05 &  8.583631\\\\\n",
       "\t6 & O43683 & -0.4754083 & -3.345551 & -9.362224 & 7.692124e-08 & 6.971628e-05 &  8.382617\\\\\n",
       "\\end{tabular}\n"
      ],
      "text/markdown": [
       "\n",
       "A data.frame: 6 × 7\n",
       "\n",
       "| <!--/--> | Identifier &lt;chr&gt; | logFC &lt;dbl&gt; | AveExpr &lt;dbl&gt; | t &lt;dbl&gt; | P.Value &lt;dbl&gt; | adj.P.Val &lt;dbl&gt; | B &lt;dbl&gt; |\n",
       "|---|---|---|---|---|---|---|---|\n",
       "| 1 | Q14526 |  0.4937650 | -3.346909 | 14.518391 | 1.520632e-10 | 8.269195e-07 | 13.997994 |\n",
       "| 2 | Q6VY07 |  0.2981411 | -3.330347 | 13.560418 | 4.139351e-10 | 1.125489e-06 | 13.138788 |\n",
       "| 3 | P07093 |  1.7950301 | -3.648968 | 12.283778 | 1.733660e-09 | 3.142547e-06 | 11.876960 |\n",
       "| 4 | P10124 |  1.0758634 | -3.436961 | 10.322933 | 2.020996e-08 | 2.747545e-05 |  9.636077 |\n",
       "| 5 | P55210 |  0.5018522 | -3.347932 |  9.510660 | 6.217196e-08 | 6.761822e-05 |  8.583631 |\n",
       "| 6 | O43683 | -0.4754083 | -3.345551 | -9.362224 | 7.692124e-08 | 6.971628e-05 |  8.382617 |\n",
       "\n"
      ],
      "text/plain": [
       "  Identifier logFC      AveExpr   t         P.Value      adj.P.Val    B        \n",
       "1 Q14526      0.4937650 -3.346909 14.518391 1.520632e-10 8.269195e-07 13.997994\n",
       "2 Q6VY07      0.2981411 -3.330347 13.560418 4.139351e-10 1.125489e-06 13.138788\n",
       "3 P07093      1.7950301 -3.648968 12.283778 1.733660e-09 3.142547e-06 11.876960\n",
       "4 P10124      1.0758634 -3.436961 10.322933 2.020996e-08 2.747545e-05  9.636077\n",
       "5 P55210      0.5018522 -3.347932  9.510660 6.217196e-08 6.761822e-05  8.583631\n",
       "6 O43683     -0.4754083 -3.345551 -9.362224 7.692124e-08 6.971628e-05  8.382617"
      ]
     },
     "metadata": {},
     "output_type": "display_data"
    }
   ],
   "source": [
    "## -----------------------------------------------------------------------------\n",
    "# retrieve the fold-change data for the proteomics dataset\n",
    "proteomics_fc <- get_result(result, type = \"fold_changes\", name = \"Proteomics\")\n",
    "head(proteomics_fc)\n",
    "#>   Identifier      logFC   AveExpr         t      P.Value    adj.P.Val         B\n",
    "#> 1     Q14526  0.4937650 -3.346909 14.518726 1.522007e-10 8.270584e-07 13.998275\n",
    "#> 2     Q6VY07  0.2981411 -3.330347 13.561998 4.137121e-10 1.124056e-06 13.140156\n",
    "#> 3     P07093  1.7950301 -3.648968 12.283282 1.736483e-09 3.145349e-06 11.876210\n",
    "#> 4     P10124  1.0758634 -3.436961 10.322552 2.023758e-08 2.749275e-05  9.635221\n",
    "#> 5     P55210  0.5018522 -3.347932  9.510506 6.223343e-08 6.763529e-05  8.582997\n",
    "#> 6     O43683 -0.4754083 -3.345551 -9.362094 7.699368e-08 6.973061e-05  8.382004"
   ]
  },
  {
   "cell_type": "markdown",
   "metadata": {
    "id": "0JvIBYes7nso"
   },
   "source": [
    "Additionally, it is possible to directly merge the pathway level data for all result sets using the pathways function:"
   ]
  },
  {
   "cell_type": "code",
   "execution_count": 20,
   "metadata": {
    "colab": {
     "base_uri": "https://localhost:8080/",
     "height": 456
    },
    "id": "5PB7vaCHAw1c",
    "outputId": "b6a51030-4b2e-4f87-bc74-7152792f9448"
   },
   "outputs": [
    {
     "data": {
      "text/html": [
       "<table class=\"dataframe\">\n",
       "<caption>A data.frame: 6 × 13</caption>\n",
       "<thead>\n",
       "\t<tr><th></th><th scope=col>Name</th><th scope=col>Direction.Proteomics</th><th scope=col>FDR.Proteomics</th><th scope=col>PValue.Proteomics</th><th scope=col>NGenes.Proteomics</th><th scope=col>av_foldchange.Proteomics</th><th scope=col>sig.Proteomics</th><th scope=col>Direction.RNA-seq</th><th scope=col>FDR.RNA-seq</th><th scope=col>PValue.RNA-seq</th><th scope=col>NGenes.RNA-seq</th><th scope=col>av_foldchange.RNA-seq</th><th scope=col>sig.RNA-seq</th></tr>\n",
       "\t<tr><th></th><th scope=col>&lt;chr&gt;</th><th scope=col>&lt;chr&gt;</th><th scope=col>&lt;dbl&gt;</th><th scope=col>&lt;dbl&gt;</th><th scope=col>&lt;dbl&gt;</th><th scope=col>&lt;dbl&gt;</th><th scope=col>&lt;lgl&gt;</th><th scope=col>&lt;chr&gt;</th><th scope=col>&lt;dbl&gt;</th><th scope=col>&lt;dbl&gt;</th><th scope=col>&lt;dbl&gt;</th><th scope=col>&lt;dbl&gt;</th><th scope=col>&lt;lgl&gt;</th></tr>\n",
       "</thead>\n",
       "<tbody>\n",
       "\t<tr><th scope=row>R-HSA-163200</th><td>Respiratory electron transport, ATP synthesis by chemiosmotic coupling, and heat production by uncoupling proteins.</td><td>Up  </td><td>2.141050e-14</td><td>1.021981e-17</td><td>107</td><td> 0.13980458</td><td>TRUE</td><td>Down</td><td>1.893878e-05</td><td>6.439024e-07</td><td>123</td><td>-0.19043836</td><td> TRUE</td></tr>\n",
       "\t<tr><th scope=row>R-HSA-1428517</th><td>The citric acid (TCA) cycle and respiratory electron transport                                                     </td><td>Up  </td><td>2.651917e-14</td><td>2.531663e-17</td><td>147</td><td> 0.12760898</td><td>TRUE</td><td>Down</td><td>3.568535e-05</td><td>1.380096e-06</td><td>167</td><td>-0.17141114</td><td> TRUE</td></tr>\n",
       "\t<tr><th scope=row>R-HSA-611105</th><td>Respiratory electron transport                                                                                     </td><td>Up  </td><td>6.049784e-14</td><td>8.663175e-17</td><td> 93</td><td> 0.14055433</td><td>TRUE</td><td>Down</td><td>2.409052e-04</td><td>1.355961e-05</td><td>102</td><td>-0.17986034</td><td> TRUE</td></tr>\n",
       "\t<tr><th scope=row>R-HSA-6799198</th><td>Complex I biogenesis                                                                                               </td><td>Up  </td><td>4.076786e-12</td><td>7.783839e-15</td><td> 55</td><td> 0.15261118</td><td>TRUE</td><td>Down</td><td>3.057173e-03</td><td>2.598532e-04</td><td> 57</td><td>-0.17425393</td><td> TRUE</td></tr>\n",
       "\t<tr><th scope=row>R-HSA-72649</th><td>Translation initiation complex formation                                                                           </td><td>Down</td><td>2.832763e-08</td><td>6.760772e-11</td><td> 57</td><td>-0.09502561</td><td>TRUE</td><td>Down</td><td>1.362003e-01</td><td>3.110793e-02</td><td> 58</td><td>-0.10297851</td><td>FALSE</td></tr>\n",
       "\t<tr><th scope=row>R-HSA-72662</th><td>Activation of the mRNA upon binding of the cap-binding complex and eIFs, and subsequent binding to 43S             </td><td>Down</td><td>5.671806e-08</td><td>1.624384e-10</td><td> 58</td><td>-0.09089517</td><td>TRUE</td><td>Down</td><td>1.779094e-01</td><td>4.377796e-02</td><td> 59</td><td>-0.07698596</td><td>FALSE</td></tr>\n",
       "</tbody>\n",
       "</table>\n"
      ],
      "text/latex": [
       "A data.frame: 6 × 13\n",
       "\\begin{tabular}{r|lllllllllllll}\n",
       "  & Name & Direction.Proteomics & FDR.Proteomics & PValue.Proteomics & NGenes.Proteomics & av\\_foldchange.Proteomics & sig.Proteomics & Direction.RNA-seq & FDR.RNA-seq & PValue.RNA-seq & NGenes.RNA-seq & av\\_foldchange.RNA-seq & sig.RNA-seq\\\\\n",
       "  & <chr> & <chr> & <dbl> & <dbl> & <dbl> & <dbl> & <lgl> & <chr> & <dbl> & <dbl> & <dbl> & <dbl> & <lgl>\\\\\n",
       "\\hline\n",
       "\tR-HSA-163200 & Respiratory electron transport, ATP synthesis by chemiosmotic coupling, and heat production by uncoupling proteins. & Up   & 2.141050e-14 & 1.021981e-17 & 107 &  0.13980458 & TRUE & Down & 1.893878e-05 & 6.439024e-07 & 123 & -0.19043836 &  TRUE\\\\\n",
       "\tR-HSA-1428517 & The citric acid (TCA) cycle and respiratory electron transport                                                      & Up   & 2.651917e-14 & 2.531663e-17 & 147 &  0.12760898 & TRUE & Down & 3.568535e-05 & 1.380096e-06 & 167 & -0.17141114 &  TRUE\\\\\n",
       "\tR-HSA-611105 & Respiratory electron transport                                                                                      & Up   & 6.049784e-14 & 8.663175e-17 &  93 &  0.14055433 & TRUE & Down & 2.409052e-04 & 1.355961e-05 & 102 & -0.17986034 &  TRUE\\\\\n",
       "\tR-HSA-6799198 & Complex I biogenesis                                                                                                & Up   & 4.076786e-12 & 7.783839e-15 &  55 &  0.15261118 & TRUE & Down & 3.057173e-03 & 2.598532e-04 &  57 & -0.17425393 &  TRUE\\\\\n",
       "\tR-HSA-72649 & Translation initiation complex formation                                                                            & Down & 2.832763e-08 & 6.760772e-11 &  57 & -0.09502561 & TRUE & Down & 1.362003e-01 & 3.110793e-02 &  58 & -0.10297851 & FALSE\\\\\n",
       "\tR-HSA-72662 & Activation of the mRNA upon binding of the cap-binding complex and eIFs, and subsequent binding to 43S              & Down & 5.671806e-08 & 1.624384e-10 &  58 & -0.09089517 & TRUE & Down & 1.779094e-01 & 4.377796e-02 &  59 & -0.07698596 & FALSE\\\\\n",
       "\\end{tabular}\n"
      ],
      "text/markdown": [
       "\n",
       "A data.frame: 6 × 13\n",
       "\n",
       "| <!--/--> | Name &lt;chr&gt; | Direction.Proteomics &lt;chr&gt; | FDR.Proteomics &lt;dbl&gt; | PValue.Proteomics &lt;dbl&gt; | NGenes.Proteomics &lt;dbl&gt; | av_foldchange.Proteomics &lt;dbl&gt; | sig.Proteomics &lt;lgl&gt; | Direction.RNA-seq &lt;chr&gt; | FDR.RNA-seq &lt;dbl&gt; | PValue.RNA-seq &lt;dbl&gt; | NGenes.RNA-seq &lt;dbl&gt; | av_foldchange.RNA-seq &lt;dbl&gt; | sig.RNA-seq &lt;lgl&gt; |\n",
       "|---|---|---|---|---|---|---|---|---|---|---|---|---|---|\n",
       "| R-HSA-163200 | Respiratory electron transport, ATP synthesis by chemiosmotic coupling, and heat production by uncoupling proteins. | Up   | 2.141050e-14 | 1.021981e-17 | 107 |  0.13980458 | TRUE | Down | 1.893878e-05 | 6.439024e-07 | 123 | -0.19043836 |  TRUE |\n",
       "| R-HSA-1428517 | The citric acid (TCA) cycle and respiratory electron transport                                                      | Up   | 2.651917e-14 | 2.531663e-17 | 147 |  0.12760898 | TRUE | Down | 3.568535e-05 | 1.380096e-06 | 167 | -0.17141114 |  TRUE |\n",
       "| R-HSA-611105 | Respiratory electron transport                                                                                      | Up   | 6.049784e-14 | 8.663175e-17 |  93 |  0.14055433 | TRUE | Down | 2.409052e-04 | 1.355961e-05 | 102 | -0.17986034 |  TRUE |\n",
       "| R-HSA-6799198 | Complex I biogenesis                                                                                                | Up   | 4.076786e-12 | 7.783839e-15 |  55 |  0.15261118 | TRUE | Down | 3.057173e-03 | 2.598532e-04 |  57 | -0.17425393 |  TRUE |\n",
       "| R-HSA-72649 | Translation initiation complex formation                                                                            | Down | 2.832763e-08 | 6.760772e-11 |  57 | -0.09502561 | TRUE | Down | 1.362003e-01 | 3.110793e-02 |  58 | -0.10297851 | FALSE |\n",
       "| R-HSA-72662 | Activation of the mRNA upon binding of the cap-binding complex and eIFs, and subsequent binding to 43S              | Down | 5.671806e-08 | 1.624384e-10 |  58 | -0.09089517 | TRUE | Down | 1.779094e-01 | 4.377796e-02 |  59 | -0.07698596 | FALSE |\n",
       "\n"
      ],
      "text/plain": [
       "              Name                                                                                                               \n",
       "R-HSA-163200  Respiratory electron transport, ATP synthesis by chemiosmotic coupling, and heat production by uncoupling proteins.\n",
       "R-HSA-1428517 The citric acid (TCA) cycle and respiratory electron transport                                                     \n",
       "R-HSA-611105  Respiratory electron transport                                                                                     \n",
       "R-HSA-6799198 Complex I biogenesis                                                                                               \n",
       "R-HSA-72649   Translation initiation complex formation                                                                           \n",
       "R-HSA-72662   Activation of the mRNA upon binding of the cap-binding complex and eIFs, and subsequent binding to 43S             \n",
       "              Direction.Proteomics FDR.Proteomics PValue.Proteomics\n",
       "R-HSA-163200  Up                   2.141050e-14   1.021981e-17     \n",
       "R-HSA-1428517 Up                   2.651917e-14   2.531663e-17     \n",
       "R-HSA-611105  Up                   6.049784e-14   8.663175e-17     \n",
       "R-HSA-6799198 Up                   4.076786e-12   7.783839e-15     \n",
       "R-HSA-72649   Down                 2.832763e-08   6.760772e-11     \n",
       "R-HSA-72662   Down                 5.671806e-08   1.624384e-10     \n",
       "              NGenes.Proteomics av_foldchange.Proteomics sig.Proteomics\n",
       "R-HSA-163200  107                0.13980458              TRUE          \n",
       "R-HSA-1428517 147                0.12760898              TRUE          \n",
       "R-HSA-611105   93                0.14055433              TRUE          \n",
       "R-HSA-6799198  55                0.15261118              TRUE          \n",
       "R-HSA-72649    57               -0.09502561              TRUE          \n",
       "R-HSA-72662    58               -0.09089517              TRUE          \n",
       "              Direction.RNA-seq FDR.RNA-seq  PValue.RNA-seq NGenes.RNA-seq\n",
       "R-HSA-163200  Down              1.893878e-05 6.439024e-07   123           \n",
       "R-HSA-1428517 Down              3.568535e-05 1.380096e-06   167           \n",
       "R-HSA-611105  Down              2.409052e-04 1.355961e-05   102           \n",
       "R-HSA-6799198 Down              3.057173e-03 2.598532e-04    57           \n",
       "R-HSA-72649   Down              1.362003e-01 3.110793e-02    58           \n",
       "R-HSA-72662   Down              1.779094e-01 4.377796e-02    59           \n",
       "              av_foldchange.RNA-seq sig.RNA-seq\n",
       "R-HSA-163200  -0.19043836            TRUE      \n",
       "R-HSA-1428517 -0.17141114            TRUE      \n",
       "R-HSA-611105  -0.17986034            TRUE      \n",
       "R-HSA-6799198 -0.17425393            TRUE      \n",
       "R-HSA-72649   -0.10297851           FALSE      \n",
       "R-HSA-72662   -0.07698596           FALSE      "
      ]
     },
     "metadata": {},
     "output_type": "display_data"
    }
   ],
   "source": [
    "combined_pathways <- pathways(result)\n",
    "\n",
    "head(combined_pathways)\n",
    "#>                                                                                                                              Name\n",
    "#> R-HSA-163200  Respiratory electron transport, ATP synthesis by chemiosmotic coupling, and heat production by uncoupling proteins.\n",
    "#> R-HSA-1428517                                                      The citric acid (TCA) cycle and respiratory electron transport\n",
    "#> R-HSA-611105                                                                                       Respiratory electron transport\n",
    "#> R-HSA-6799198                                                                                                Complex I biogenesis\n",
    "#> R-HSA-72649                                                                              Translation initiation complex formation\n",
    "#> R-HSA-72662                Activation of the mRNA upon binding of the cap-binding complex and eIFs, and subsequent binding to 43S\n",
    "#>               Direction.Proteomics FDR.Proteomics PValue.Proteomics\n",
    "#> R-HSA-163200                    Up   2.155315e-14      1.028790e-17\n",
    "#> R-HSA-1428517                   Up   2.667615e-14      2.546649e-17\n",
    "#> R-HSA-611105                    Up   6.088648e-14      8.718828e-17\n",
    "#> R-HSA-6799198                   Up   4.101238e-12      7.830526e-15\n",
    "#> R-HSA-72649                   Down   2.850602e-08      6.803347e-11\n",
    "#> R-HSA-72662                   Down   5.706180e-08      1.634228e-10\n",
    "#>               NGenes.Proteomics av_foldchange.Proteomics sig.Proteomics\n",
    "#> R-HSA-163200                107               0.13980458           TRUE\n",
    "#> R-HSA-1428517               147               0.12760898           TRUE\n",
    "#> R-HSA-611105                 93               0.14055433           TRUE\n",
    "#> R-HSA-6799198                55               0.15261118           TRUE\n",
    "#> R-HSA-72649                  57              -0.09502561           TRUE\n",
    "#> R-HSA-72662                  58              -0.09089517           TRUE\n",
    "#>               Direction.RNA-seq  FDR.RNA-seq PValue.RNA-seq NGenes.RNA-seq\n",
    "#> R-HSA-163200               Down 1.775933e-05   5.952428e-07            123\n",
    "#> R-HSA-1428517              Down 3.332796e-05   1.272599e-06            167\n",
    "#> R-HSA-611105               Down 2.321641e-04   1.265274e-05            102\n",
    "#> R-HSA-6799198              Down 3.036956e-03   2.473889e-04             57\n",
    "#> R-HSA-72649                Down 1.323048e-01   2.986260e-02             58\n",
    "#> R-HSA-72662                Down 1.724015e-01   4.213121e-02             59\n",
    "#>               av_foldchange.RNA-seq sig.RNA-seq\n",
    "#> R-HSA-163200            -0.19129352        TRUE\n",
    "#> R-HSA-1428517           -0.17226313        TRUE\n",
    "#> R-HSA-611105            -0.18071563        TRUE\n",
    "#> R-HSA-6799198           -0.17510280        TRUE\n",
    "#> R-HSA-72649             -0.10382630       FALSE\n",
    "#> R-HSA-72662             -0.07783433       FALSE"
   ]
  },
  {
   "cell_type": "code",
   "execution_count": 21,
   "metadata": {},
   "outputs": [],
   "source": [
    "# reactome_links: Displays / retrieves the URLs to the available visualizations in Reactome’s pathway browser.\n",
    "# open_reactome: Opens the specified Reactome visualization in the system’s default browser"
   ]
  },
  {
   "cell_type": "code",
   "execution_count": 22,
   "metadata": {},
   "outputs": [
    {
     "name": "stdout",
     "output_type": "stream",
     "text": [
      "1: Gene Set Analysis Summary\n",
      "   Overview over all submitted datasets showing significantly and non-significantly up- and down- regulated pathways\n",
      "   URL = https://www.reactome.org/PathwayBrowser/#/DTAB=AN&ANALYSIS=MjAyMTExMjMwMDAyMzNfMTUzNw%3D%3D\n"
     ]
    }
   ],
   "source": [
    "reactome_links(result)"
   ]
  },
  {
   "cell_type": "code",
   "execution_count": 23,
   "metadata": {},
   "outputs": [
    {
     "name": "stderr",
     "output_type": "stream",
     "text": [
      "Opening https://www.reactome.org/PathwayBrowser/#/DTAB=AN&ANALYSIS=MjAyMTExMjMwMDAyMzNfMTUzNw%3D%3D in the default browser...\n",
      "\n"
     ]
    },
    {
     "ename": "ERROR",
     "evalue": "Error in utils::browseURL(url = url): 'browser' must be a non-empty character string\n",
     "output_type": "error",
     "traceback": [
      "Error in utils::browseURL(url = url): 'browser' must be a non-empty character string\nTraceback:\n",
      "1. open_reactome(result)",
      "2. open_reactome(result)",
      "3. .local(x, ...)",
      "4. utils::browseURL(url = url)",
      "5. stop(\"'browser' must be a non-empty character string\")"
     ]
    }
   ],
   "source": [
    "# open_reactome(result)"
   ]
  },
  {
   "cell_type": "markdown",
   "metadata": {
    "id": "oyARz7QS7xPk"
   },
   "source": [
    "## Visualising results\n",
    "The ReactomeGSA package includes several basic plotting functions to visualise the pathway results. For comparative gene set analysis like the one presented here, two functions are available: `plot_correlations` and `plot_volcano`.\n",
    "\n",
    "`plot_correlations` can be used to quickly assess how similar two datasets are on the pathway level:"
   ]
  },
  {
   "cell_type": "code",
   "execution_count": 24,
   "metadata": {
    "id": "7auQtulBAylS"
   },
   "outputs": [
    {
     "name": "stderr",
     "output_type": "stream",
     "text": [
      "Comparing 1 vs 2\n",
      "\n",
      "Warning message:\n",
      "“Removed 264 rows containing missing values (geom_point).”\n"
     ]
    },
    {
     "data": {
      "text/plain": [
       "[[1]]\n"
      ]
     },
     "metadata": {},
     "output_type": "display_data"
    },
    {
     "data": {
      "image/png": "[encoded data removed]",
      "text/plain": [
       "plot without title"
      ]
     },
     "metadata": {
      "image/png": {
       "height": 420,
       "width": 420
      }
     },
     "output_type": "display_data"
    }
   ],
   "source": [
    "plot_correlations(result)\n",
    "#> Comparing 1 vs 2\n",
    "#> [[1]]\n",
    "#> Warning: Removed 264 rows containing missing values (geom_point)."
   ]
  },
  {
   "cell_type": "markdown",
   "metadata": {
    "id": "kIWex0LB8JC1"
   },
   "source": [
    "Individual datasets can further be visualised using volcano plots of the pathway data:"
   ]
  },
  {
   "cell_type": "code",
   "execution_count": 25,
   "metadata": {
    "id": "WXQV_yGM8A6Q"
   },
   "outputs": [
    {
     "data": {
      "image/png": "[encoded data removed]",
      "text/plain": [
       "plot without title"
      ]
     },
     "metadata": {
      "image/png": {
       "height": 420,
       "width": 420
      }
     },
     "output_type": "display_data"
    }
   ],
   "source": [
    "plot_volcano(result, 2)"
   ]
  },
  {
   "cell_type": "markdown",
   "metadata": {},
   "source": [
    "## Heatmap showing enriched pathways in transcriptomic and proteomic datasets"
   ]
  },
  {
   "cell_type": "code",
   "execution_count": null,
   "metadata": {},
   "outputs": [],
   "source": [
    "plot_heatmap(result) +\n",
    "  # reduce text size to create a better HTML rendering\n",
    "  ggplot2::theme(text = ggplot2::element_text(size = 6))\n"
   ]
  },
  {
   "cell_type": "markdown",
   "metadata": {},
   "source": [
    "## Heatmap for all pathways with \"Interleukin\" in their name for transcriptomic and proteomic datasets"
   ]
  },
  {
   "cell_type": "code",
   "execution_count": 26,
   "metadata": {},
   "outputs": [
    {
     "data": {
      "image/png": "[encoded data removed]",
      "text/plain": [
       "plot without title"
      ]
     },
     "metadata": {
      "image/png": {
       "height": 420,
       "width": 420
      }
     },
     "output_type": "display_data"
    }
   ],
   "source": [
    "\n",
    "# get the data ready to plot with ggplot2\n",
    "plot_data <- plot_heatmap(result, return_data = TRUE)\n",
    "\n",
    "# select the pathways of interest - here all pathways\n",
    "# with \"Interleukin\" in their name\n",
    "interleukin_pathways <- grepl(\"Interleukin\", plot_data$Name)\n",
    "\n",
    "interesting_data <- plot_data[interleukin_pathways, ]\n",
    "\n",
    "ggplot2::ggplot(interesting_data, ggplot2::aes(x = dataset, y = Name, fill = direction)) +\n",
    "  ggplot2::geom_tile() +\n",
    "  ggplot2::scale_fill_brewer(palette = \"RdYlBu\") +\n",
    "  ggplot2::labs(x = \"Dataset\", fill = \"Direction\") +\n",
    "  ggplot2::theme(text = ggplot2::element_text(size = 6))\n"
   ]
  },
  {
   "cell_type": "markdown",
   "metadata": {},
   "source": [
    "## Additional Information\n",
    "The following hyperlink provides a tutorial created by the Reactome team that demonstrates how to extract and analyse transcriptomics data from The Cancer Genome Atlas (TCGA) database. Please visit if you would like to learn more. https://github.com/reactome/ReactomeGSA-tutorials/blob/master/notebooks/TCGA_B_Cell_Analysis.ipynb\n"
   ]
  },
  {
   "cell_type": "markdown",
   "metadata": {
    "id": "zUeHLk_d8MPt"
   },
   "source": [
    "## Session Info"
   ]
  },
  {
   "cell_type": "code",
   "execution_count": null,
   "metadata": {
    "id": "Z3jZl49f8FCi"
   },
   "outputs": [],
   "source": [
    "sessionInfo()\n",
    "#> R version 4.1.1 (2021-08-10)\n",
    "#> Platform: x86_64-pc-linux-gnu (64-bit)\n",
    "#> Running under: Ubuntu 20.04.3 LTS\n",
    "#> \n",
    "#> Matrix products: default\n",
    "#> BLAS:   /home/biocbuild/bbs-3.13-bioc/R/lib/libRblas.so\n",
    "#> LAPACK: /home/biocbuild/bbs-3.13-bioc/R/lib/libRlapack.so\n",
    "#> \n",
    "#> locale:\n",
    "#>  [1] LC_CTYPE=en_US.UTF-8       LC_NUMERIC=C              \n",
    "#>  [3] LC_TIME=en_GB              LC_COLLATE=C              \n",
    "#>  [5] LC_MONETARY=en_US.UTF-8    LC_MESSAGES=en_US.UTF-8   \n",
    "#>  [7] LC_PAPER=en_US.UTF-8       LC_NAME=C                 \n",
    "#>  [9] LC_ADDRESS=C               LC_TELEPHONE=C            \n",
    "#> [11] LC_MEASUREMENT=en_US.UTF-8 LC_IDENTIFICATION=C       \n",
    "#> \n",
    "#> attached base packages:\n",
    "#> [1] stats     graphics  grDevices utils     datasets  methods   base     \n",
    "#> \n",
    "#> other attached packages:\n",
    "#> [1] ReactomeGSA.data_1.6.0 SeuratObject_4.0.2     Seurat_4.0.4          \n",
    "#> [4] edgeR_3.34.1           limma_3.48.3           ReactomeGSA_1.6.1     \n",
    "#> \n",
    "#> loaded via a namespace (and not attached):\n",
    "#>   [1] Rtsne_0.15            colorspace_2.0-2      deldir_0.2-10        \n",
    "#>   [4] ellipsis_0.3.2        ggridges_0.5.3        spatstat.data_2.1-0  \n",
    "#>   [7] farver_2.1.0          leiden_0.3.9          listenv_0.8.0        \n",
    "#>  [10] ggrepel_0.9.1         fansi_0.5.0           codetools_0.2-18     \n",
    "#>  [13] splines_4.1.1         knitr_1.34            polyclip_1.10-0      \n",
    "#>  [16] jsonlite_1.7.2        ica_1.0-2             cluster_2.1.2        \n",
    "#>  [19] png_0.1-7             uwot_0.1.10           shiny_1.7.0          \n",
    "#>  [22] sctransform_0.3.2     spatstat.sparse_2.0-0 BiocManager_1.30.16  \n",
    "#>  [25] compiler_4.1.1        httr_1.4.2            assertthat_0.2.1     \n",
    "#>  [28] Matrix_1.3-4          fastmap_1.1.0         lazyeval_0.2.2       \n",
    "#>  [31] later_1.3.0           prettyunits_1.1.1     htmltools_0.5.2      \n",
    "#>  [34] tools_4.1.1           igraph_1.2.6          gtable_0.3.0         \n",
    "#>  [37] glue_1.4.2            RANN_2.6.1            reshape2_1.4.4       \n",
    "#>  [40] dplyr_1.0.7           Rcpp_1.0.7            scattermore_0.7      \n",
    "#>  [43] jquerylib_0.1.4       vctrs_0.3.8           nlme_3.1-153         \n",
    "#>  [46] lmtest_0.9-38         xfun_0.26             stringr_1.4.0        \n",
    "#>  [49] globals_0.14.0        mime_0.11             miniUI_0.1.1.1       \n",
    "#>  [52] lifecycle_1.0.0       irlba_2.3.3           gtools_3.9.2         \n",
    "#>  [55] goftest_1.2-2         future_1.22.1         MASS_7.3-54          \n",
    "#>  [58] zoo_1.8-9             scales_1.1.1          spatstat.core_2.3-0  \n",
    "#>  [61] hms_1.1.0             promises_1.2.0.1      spatstat.utils_2.2-0 \n",
    "#>  [64] parallel_4.1.1        RColorBrewer_1.1-2    curl_4.3.2           \n",
    "#>  [67] yaml_2.2.1            reticulate_1.22       pbapply_1.5-0        \n",
    "#>  [70] gridExtra_2.3         ggplot2_3.3.5         sass_0.4.0           \n",
    "#>  [73] rpart_4.1-15          stringi_1.7.4         highr_0.9            \n",
    "#>  [76] caTools_1.18.2        rlang_0.4.11          pkgconfig_2.0.3      \n",
    "#>  [79] matrixStats_0.61.0    bitops_1.0-7          evaluate_0.14        \n",
    "#>  [82] lattice_0.20-45       ROCR_1.0-11           purrr_0.3.4          \n",
    "#>  [85] tensor_1.5            labeling_0.4.2        patchwork_1.1.1      \n",
    "#>  [88] htmlwidgets_1.5.4     cowplot_1.1.1         tidyselect_1.1.1     \n",
    "#>  [91] parallelly_1.28.1     RcppAnnoy_0.0.19      plyr_1.8.6           \n",
    "#>  [94] magrittr_2.0.1        R6_2.5.1              gplots_3.1.1         \n",
    "#>  [97] generics_0.1.0        DBI_1.1.1             mgcv_1.8-36          \n",
    "#> [100] pillar_1.6.2          fitdistrplus_1.1-5    survival_3.2-13      \n",
    "#> [103] abind_1.4-5           tibble_3.1.4          future.apply_1.8.1   \n",
    "#> [106] crayon_1.4.1          KernSmooth_2.23-20    utf8_1.2.2           \n",
    "#> [109] spatstat.geom_2.2-2   plotly_4.9.4.1        rmarkdown_2.11       \n",
    "#> [112] progress_1.2.2        locfit_1.5-9.4        grid_4.1.1           \n",
    "#> [115] data.table_1.14.0     digest_0.6.27         xtable_1.8-4         \n",
    "#> [118] tidyr_1.1.3           httpuv_1.6.3          munsell_0.5.0        \n",
    "#> [121] viridisLite_0.4.0     bslib_0.3.0"
   ]
  }
 ],
 "metadata": {
  "colab": {
   "collapsed_sections": [],
   "name": "ReactomeGSA_RNAseq_Proteomics.ipynb",
   "provenance": []
  },
  "kernelspec": {
   "display_name": "R 4.1.1",
   "language": "R",
   "name": "ir411"
  },
  "language_info": {
   "codemirror_mode": "r",
   "file_extension": ".r",
   "mimetype": "text/x-r-source",
   "name": "R",
   "pygments_lexer": "r",
   "version": "4.1.1"
  }
 },
 "nbformat": 4,
 "nbformat_minor": 4
}
